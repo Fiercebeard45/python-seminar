{
 "cells": [
  {
   "cell_type": "code",
   "execution_count": 60,
   "metadata": {},
   "outputs": [
    {
     "data": {
      "text/html": [
       "<style>\n",
       "\n",
       ".rendered_html\n",
       "{\n",
       "  color: #2C5494;\n",
       "  font-family: Ubuntu;\n",
       "  font-size: 140%;\n",
       "  line-height: 1.1;\n",
       "  margin: 0.5em 0;\n",
       "  }\n",
       "\n",
       ".talk_title\n",
       "{\n",
       "  color: #498AF3;\n",
       "  font-size: 250%;\n",
       "  font-weight:bold;\n",
       "  line-height: 1.2; \n",
       "  margin: 10px 50px 10px;\n",
       "  }\n",
       "\n",
       ".subtitle\n",
       "{\n",
       "  color: #386BBC;\n",
       "  font-size: 180%;\n",
       "  font-weight:bold;\n",
       "  line-height: 1.2; \n",
       "  margin: 20px 50px 20px;\n",
       "  }\n",
       "\n",
       ".slide-header, p.slide-header\n",
       "{\n",
       "  color: #498AF3;\n",
       "  font-size: 200%;\n",
       "  font-weight:bold;\n",
       "  margin: 0px 20px 10px;\n",
       "  page-break-before: always;\n",
       "  text-align: center;\n",
       "  }\n",
       "\n",
       ".rendered_html h1\n",
       "{\n",
       "  color: #498AF3;\n",
       "  line-height: 1.2; \n",
       "  margin: 0.15em 0em 0.5em;\n",
       "  page-break-before: always;\n",
       "  text-align: center;\n",
       "  }\n",
       "\n",
       "\n",
       ".rendered_html h2\n",
       "{ \n",
       "  color: #386BBC;\n",
       "  line-height: 1.2;\n",
       "  margin: 1.1em 0em 0.5em;\n",
       "  }\n",
       "\n",
       ".rendered_html h3\n",
       "{ \n",
       "  font-size: 100%;\n",
       "  line-height: 1.2;\n",
       "  margin: 1.1em 0em 0.5em;\n",
       "  }\n",
       "\n",
       ".rendered_html li\n",
       "{\n",
       "  line-height: 1.8;\n",
       "  }\n",
       "\n",
       ".input_prompt, .CodeMirror-lines, .output_area\n",
       "{\n",
       "  font-family: Consolas;\n",
       "  font-size: 120%;\n",
       "  }\n",
       "\n",
       ".gap-above\n",
       "{\n",
       "  padding-top: 200px;\n",
       "  }\n",
       "\n",
       ".gap01\n",
       "{\n",
       "  padding-top: 10px;\n",
       "  }\n",
       "\n",
       ".gap05\n",
       "{\n",
       "  padding-top: 50px;\n",
       "  }\n",
       "\n",
       ".gap1\n",
       "{\n",
       "  padding-top: 100px;\n",
       "  }\n",
       "\n",
       ".gap2\n",
       "{\n",
       "  padding-top: 200px;\n",
       "  }\n",
       "\n",
       ".gap3\n",
       "{\n",
       "  padding-top: 300px;\n",
       "  }\n",
       "\n",
       ".emph\n",
       "{\n",
       "  color: #386BBC;\n",
       "  }\n",
       "\n",
       ".warn\n",
       "{\n",
       "  color: red;\n",
       "  }\n",
       "\n",
       ".center\n",
       "{\n",
       "  text-align: center;\n",
       "  }\n",
       "\n",
       ".nb_link\n",
       "{\n",
       "    padding-bottom: 0.5em;\n",
       "}\n",
       "\n",
       "</style>"
      ],
      "text/plain": [
       "<IPython.core.display.HTML object>"
      ]
     },
     "metadata": {},
     "output_type": "display_data"
    }
   ],
   "source": [
    "%run ../00_AdvancedPythonConcepts/talktools.py"
   ]
  },
  {
   "cell_type": "markdown",
   "metadata": {},
   "source": [
    "# Topic Modelling\n",
    "\n",
    "<font color=\"grey\">Python for Data Science (AY250, UC Berkeley 2016&mdash;2018, J. Bloom)</font>\n",
    "\n",
    "What are some recent topics tweeted about with the #GoBears hashtag? \n",
    "\n",
    "We can use LDA  (http://ai.stanford.edu/~ang/papers/jair03-lda.pdf) to help us find themes.\n",
    "\n",
    "\"a generative probabilistic model for collections of discrete dataset such as text corpora. It is also a topic model that is used for discovering abstract topics from a collection of documents.\"\n",
    "\n",
    "- http://scikit-learn.org/stable/modules/decomposition.html#latentdirichletallocation\n"
   ]
  },
  {
   "cell_type": "markdown",
   "metadata": {},
   "source": [
    "### Get Tweet IDs from near Berkeley, CA where GOBears is mentioned"
   ]
  },
  {
   "cell_type": "code",
   "execution_count": null,
   "metadata": {
    "collapsed": true
   },
   "outputs": [],
   "source": [
    "import pandas as pd\n",
    "import tweepy\n",
    "import csv\n",
    "\n",
    "import json\n",
    "cred = json.load(open(\".cred.json\",\"r\"))\n",
    "\n",
    "consumer_key = cred[\"consumer_key\"]\n",
    "consumer_secret = cred[\"consumer_secret\"]\n",
    "access_token = cred[\"access_token\"]\n",
    "access_secret = cred[\"access_secret\"]"
   ]
  },
  {
   "cell_type": "code",
   "execution_count": null,
   "metadata": {},
   "outputs": [],
   "source": [
    "auth = tweepy.OAuthHandler(consumer_key, consumer_secret)\n",
    "auth.set_access_token(access_token, access_secret)\n",
    "api = tweepy.API(auth, wait_on_rate_limit=True, wait_on_rate_limit_notify=True, \n",
    "                     retry_count=3, retry_delay=5, retry_errors=set([401, 404, 500, 503]))"
   ]
  },
  {
   "cell_type": "code",
   "execution_count": null,
   "metadata": {},
   "outputs": [],
   "source": [
    "n=1000\n",
    "ids = []\n",
    "a = tweepy.Cursor(api.search, q='gobears', geocode=\"37.8716,-122.2727,100km\",since_id=874829847523414016)\n",
    "for t in a.items():\n",
    "    ids.append(t.id)\n",
    "    n-=1\n",
    "    if n<0:\n",
    "        break"
   ]
  },
  {
   "cell_type": "code",
   "execution_count": null,
   "metadata": {},
   "outputs": [],
   "source": [
    "len(ids)"
   ]
  },
  {
   "cell_type": "code",
   "execution_count": null,
   "metadata": {},
   "outputs": [],
   "source": [
    "import pandas as pd\n",
    "df = pd.DataFrame(ids,columns=[\"berkeley_ids\"])\n",
    "df.to_csv(\"berkeley.csv\",index=False)"
   ]
  },
  {
   "cell_type": "code",
   "execution_count": null,
   "metadata": {},
   "outputs": [],
   "source": [
    "!head berkeley.csv"
   ]
  },
  {
   "cell_type": "markdown",
   "metadata": {},
   "source": [
    "### Get the body of text from those tweets"
   ]
  },
  {
   "cell_type": "code",
   "execution_count": null,
   "metadata": {},
   "outputs": [],
   "source": [
    "# this takes awhile!\n",
    "%run get_tweets.py\n",
    "retrieve_tweets(\"berkeley.csv\",\"tweet_berkeley.csv\")"
   ]
  },
  {
   "cell_type": "code",
   "execution_count": null,
   "metadata": {},
   "outputs": [],
   "source": [
    "#!pip install tweet-preprocessor\n",
    "#!conda install --channel mpi4py mpich mpi4py -y"
   ]
  },
  {
   "cell_type": "code",
   "execution_count": null,
   "metadata": {},
   "outputs": [],
   "source": [
    "#!pip install pyLDAvis\n",
    "#!pip install gensim"
   ]
  },
  {
   "cell_type": "code",
   "execution_count": 61,
   "metadata": {
    "collapsed": true
   },
   "outputs": [],
   "source": [
    "import pandas as pd\n",
    "import preprocessor as p\n",
    "df = pd.read_csv(\"tweet_berkeley.csv\",usecols=[\"text\",\"id\"],index_col=[\"id\"])"
   ]
  },
  {
   "cell_type": "code",
   "execution_count": 62,
   "metadata": {},
   "outputs": [
    {
     "name": "stdout",
     "output_type": "stream",
     "text": [
      "1001\n"
     ]
    }
   ],
   "source": [
    "print(len(df))"
   ]
  },
  {
   "cell_type": "code",
   "execution_count": 63,
   "metadata": {},
   "outputs": [
    {
     "data": {
      "text/html": [
       "<div>\n",
       "<style>\n",
       "    .dataframe thead tr:only-child th {\n",
       "        text-align: right;\n",
       "    }\n",
       "\n",
       "    .dataframe thead th {\n",
       "        text-align: left;\n",
       "    }\n",
       "\n",
       "    .dataframe tbody tr th {\n",
       "        vertical-align: top;\n",
       "    }\n",
       "</style>\n",
       "<table border=\"1\" class=\"dataframe\">\n",
       "  <thead>\n",
       "    <tr style=\"text-align: right;\">\n",
       "      <th></th>\n",
       "      <th>text</th>\n",
       "    </tr>\n",
       "    <tr>\n",
       "      <th>id</th>\n",
       "      <th></th>\n",
       "    </tr>\n",
       "  </thead>\n",
       "  <tbody>\n",
       "    <tr>\n",
       "      <th>974986220097888256</th>\n",
       "      <td>RT @CalBaseball: B8 | It's a three-hit night f...</td>\n",
       "    </tr>\n",
       "    <tr>\n",
       "      <th>975022990374162433</th>\n",
       "      <td>.@aliharrison07 wins her 200 breast heat in a ...</td>\n",
       "    </tr>\n",
       "    <tr>\n",
       "      <th>975261240069992449</th>\n",
       "      <td>RT @CalWSwim: AMERICAN RECORD!! @KathleenBaker...</td>\n",
       "    </tr>\n",
       "    <tr>\n",
       "      <th>974851949425119233</th>\n",
       "      <td>RT @CalBaseball: B4 | @_JonahDavis_ delivers! ...</td>\n",
       "    </tr>\n",
       "    <tr>\n",
       "      <th>974716376811110400</th>\n",
       "      <td>RT @CalWSwim: 5 individuals and 2 relays will ...</td>\n",
       "    </tr>\n",
       "    <tr>\n",
       "      <th>974059557596020736</th>\n",
       "      <td>RT @CalBaseball: The Pac-12 season is here! Ma...</td>\n",
       "    </tr>\n",
       "    <tr>\n",
       "      <th>973390645992673280</th>\n",
       "      <td>RT @CalBaseball: For the second time in three ...</td>\n",
       "    </tr>\n",
       "    <tr>\n",
       "      <th>974853874229043200</th>\n",
       "      <td>RT @Cal: Happy 150, UC Berkeley! #Berkeley150🌟...</td>\n",
       "    </tr>\n",
       "    <tr>\n",
       "      <th>975432521880973313</th>\n",
       "      <td>RT @CalBaseball: We're ready for some Sunday b...</td>\n",
       "    </tr>\n",
       "    <tr>\n",
       "      <th>974326599943315456</th>\n",
       "      <td>RT @CalAthletics: .@CalWBBall is South Carolin...</td>\n",
       "    </tr>\n",
       "    <tr>\n",
       "      <th>974108786548813824</th>\n",
       "      <td>RT @CalWSwim: RECAP: Cal takes third in the 80...</td>\n",
       "    </tr>\n",
       "    <tr>\n",
       "      <th>975229993092608000</th>\n",
       "      <td>RT @CalWSwim: AMERICAN RECORD!! @KathleenBaker...</td>\n",
       "    </tr>\n",
       "    <tr>\n",
       "      <th>975190548184104960</th>\n",
       "      <td>RT @CalWWPolo: The No. 1 Bears continue to rol...</td>\n",
       "    </tr>\n",
       "    <tr>\n",
       "      <th>975226815156428800</th>\n",
       "      <td>RT @lesgomez7: The only comparison that matter...</td>\n",
       "    </tr>\n",
       "    <tr>\n",
       "      <th>974790644857106432</th>\n",
       "      <td>RT @CalMensTennis: Cal beats @PurdueMT 4-0 in ...</td>\n",
       "    </tr>\n",
       "    <tr>\n",
       "      <th>974763606058283009</th>\n",
       "      <td>RT @Lesmitch529: Cal goes up 28-21 in the midd...</td>\n",
       "    </tr>\n",
       "    <tr>\n",
       "      <th>975190425555185664</th>\n",
       "      <td>RT @Cal: Happy 150, UC Berkeley! #Berkeley150🌟...</td>\n",
       "    </tr>\n",
       "    <tr>\n",
       "      <th>973696790322016256</th>\n",
       "      <td>T7 | Inning ends on a double play. It's stretc...</td>\n",
       "    </tr>\n",
       "    <tr>\n",
       "      <th>973600500334542848</th>\n",
       "      <td>RT @Cal: Kamala Harris to give UC Berkeley’s 2...</td>\n",
       "    </tr>\n",
       "    <tr>\n",
       "      <th>974797428753756160</th>\n",
       "      <td>RT @CalCheerleading: Congratulations on such a...</td>\n",
       "    </tr>\n",
       "  </tbody>\n",
       "</table>\n",
       "</div>"
      ],
      "text/plain": [
       "                                                                 text\n",
       "id                                                                   \n",
       "974986220097888256  RT @CalBaseball: B8 | It's a three-hit night f...\n",
       "975022990374162433  .@aliharrison07 wins her 200 breast heat in a ...\n",
       "975261240069992449  RT @CalWSwim: AMERICAN RECORD!! @KathleenBaker...\n",
       "974851949425119233  RT @CalBaseball: B4 | @_JonahDavis_ delivers! ...\n",
       "974716376811110400  RT @CalWSwim: 5 individuals and 2 relays will ...\n",
       "974059557596020736  RT @CalBaseball: The Pac-12 season is here! Ma...\n",
       "973390645992673280  RT @CalBaseball: For the second time in three ...\n",
       "974853874229043200  RT @Cal: Happy 150, UC Berkeley! #Berkeley150🌟...\n",
       "975432521880973313  RT @CalBaseball: We're ready for some Sunday b...\n",
       "974326599943315456  RT @CalAthletics: .@CalWBBall is South Carolin...\n",
       "974108786548813824  RT @CalWSwim: RECAP: Cal takes third in the 80...\n",
       "975229993092608000  RT @CalWSwim: AMERICAN RECORD!! @KathleenBaker...\n",
       "975190548184104960  RT @CalWWPolo: The No. 1 Bears continue to rol...\n",
       "975226815156428800  RT @lesgomez7: The only comparison that matter...\n",
       "974790644857106432  RT @CalMensTennis: Cal beats @PurdueMT 4-0 in ...\n",
       "974763606058283009  RT @Lesmitch529: Cal goes up 28-21 in the midd...\n",
       "975190425555185664  RT @Cal: Happy 150, UC Berkeley! #Berkeley150🌟...\n",
       "973696790322016256  T7 | Inning ends on a double play. It's stretc...\n",
       "973600500334542848  RT @Cal: Kamala Harris to give UC Berkeley’s 2...\n",
       "974797428753756160  RT @CalCheerleading: Congratulations on such a..."
      ]
     },
     "execution_count": 63,
     "metadata": {},
     "output_type": "execute_result"
    }
   ],
   "source": [
    "df.head(20)"
   ]
  },
  {
   "cell_type": "code",
   "execution_count": 64,
   "metadata": {},
   "outputs": [],
   "source": [
    "# p.set_options(p.OPT.URL, p.OPT.EMOJI,p.OPT.MENTION,p.OPT.SMILEY)\n",
    "p.set_options(p.OPT.URL, p.OPT.EMOJI, p.OPT.SMILEY, p.OPT.HASHTAG, p.OPT.MENTION)\n",
    "df[\"clean\"] = df[\"text\"].apply(p.clean).apply(lambda x: x.replace(\"RT\", \"\")).apply(lambda x: x.replace(\":\", \"\"))"
   ]
  },
  {
   "cell_type": "code",
   "execution_count": 65,
   "metadata": {},
   "outputs": [
    {
     "data": {
      "text/plain": [
       "id\n",
       "974986220097888256      B8 | It's a three-hit night for as he leads ...\n",
       "975022990374162433    . wins her 200 breast heat in a PR 210.21 and ...\n",
       "975261240069992449      AMERICAN RECORD!! defends her NCAA title in ...\n",
       "974851949425119233      B4 | delivers! It's a double down the left f...\n",
       "974716376811110400      5 individuals and 2 relays will be in the wa...\n",
       "974059557596020736      The Pac-12 season is here! Make your plans t...\n",
       "973390645992673280      For the second time in three weeks, a Golden...\n",
       "974853874229043200                              Happy 150, UC Berkeley!\n",
       "975432521880973313      We're ready for some Sunday baseball! Bears ...\n",
       "974326599943315456                           . is South Carolina bound!\n",
       "974108786548813824      RECAP Cal takes third in the 800 free relay ...\n",
       "975229993092608000      AMERICAN RECORD!! defends her NCAA title in ...\n",
       "975190548184104960      The No. 1 Bears continue to roll! Cal beats ...\n",
       "975226815156428800                   The only comparison that matters 🤪\n",
       "974790644857106432      Cal beats 4-0 in the Collegiate Tennis Chall...\n",
       "974763606058283009      Cal goes up 28-21 in the middle of the secon...\n",
       "975190425555185664                              Happy 150, UC Berkeley!\n",
       "973696790322016256    T7 | Inning ends on a double play. It's stretc...\n",
       "973600500334542848      Kamala Harris to give UC Berkeley’s 2018 com...\n",
       "974797428753756160      Congratulations on such an amazing season ! ...\n",
       "974318444844744706    Cant fault me for dreaming with this no-stakes...\n",
       "973704944875315201    B8 | Sabouri gets a grounder, Vaughn makes the...\n",
       "975145514655211521      B1 | After a 3-for-3 night on Friday, return...\n",
       "974437383029514240      5 individuals and 2 relays will be in the wa...\n",
       "975147016182382592      AMERICAN RECORD!! defends her NCAA title in ...\n",
       "975162469306966016      AMERICAN RECORD!! defends her NCAA title in ...\n",
       "974132215612243969      The Pac-12 season is here! Make your plans t...\n",
       "973752582165250048      Kamala Harris to give UC Berkeley’s 2018 com...\n",
       "973604595225079809      Kamala Harris to give UC Berkeley’s 2018 com...\n",
       "975387848592449537    MATCHDAY! Cal plays in the Collegiate Tennis C...\n",
       "                                            ...                        \n",
       "973592482943348736      Kamala Harris to give UC Berkeley’s 2018 com...\n",
       "974716334104748032    This young emerged as a terrific leader. Can’t...\n",
       "975202982143889409      AMERICAN RECORD!! defends her NCAA title in ...\n",
       "975155532389494784      AMERICAN RECORD!! defends her NCAA title in ...\n",
       "973800657856679936               Ready to see Cal Men’s B-ball beat WSU\n",
       "974794495710539777                              Happy 150, UC Berkeley!\n",
       "975189399540502528    An American record by in the 200 back and a se...\n",
       "974091119775465472      Bears all alone at No. 1 in this week’s rank...\n",
       "975194986932092928      An American record by in the 200 back and a ...\n",
       "973983269673840640                           . is South Carolina bound!\n",
       "973334683655090176                                   CAL IS A 7 SEED!!!\n",
       "974792639898968064      The Bears set school record No. 3 at , going...\n",
       "973611910217125888      No amount of wet weather can sink our battle...\n",
       "973331973266550785                              We approve this message\n",
       "974708030859169792      The forecast says we're dry tonight so come ...\n",
       "973691973625245696      T1 | doubles off the wall in center, takes t...\n",
       "973696209511530497    T7 | Bears load the bases with no outs and pro...\n",
       "975291947215552513      5 Cal records, an American record and a 10th...\n",
       "974767729830850561                 The Bears hold the lead at the half!\n",
       "973614272960921600      No amount of wet weather can sink our battle...\n",
       "973984374545727489                           . is South Carolina bound!\n",
       "974788673790234625    The Bears set school record No. 3 at , going 1...\n",
       "975374786745348101      Final totals are in, and captures second at ...\n",
       "975177093037178880    Big huge props to our grounds crew, which has ...\n",
       "973419951716319232      For the second time in three weeks, a Golden...\n",
       "974049350878945285    Bears take 3rd in opening 800 free relay in 65...\n",
       "974691890091077632    The forecast says we're dry tonight so come on...\n",
       "973683702789169152      T3 | That friends is home run No. 10 for ! C...\n",
       "974123403421470720                                                     \n",
       "973391832133455872                                . is next week talkin\n",
       "Name: clean, Length: 1001, dtype: object"
      ]
     },
     "execution_count": 65,
     "metadata": {},
     "output_type": "execute_result"
    }
   ],
   "source": [
    "df[\"clean\"]"
   ]
  },
  {
   "cell_type": "markdown",
   "metadata": {},
   "source": [
    "## Generate the LDA topics"
   ]
  },
  {
   "cell_type": "code",
   "execution_count": 69,
   "metadata": {},
   "outputs": [],
   "source": [
    "%run make_corpus.py"
   ]
  },
  {
   "cell_type": "code",
   "execution_count": 70,
   "metadata": {
    "collapsed": true
   },
   "outputs": [],
   "source": [
    "make_corpus(df[\"clean\"].values, outdictfile='berkeley.dict',mmfile='berkeley.mm')"
   ]
  },
  {
   "cell_type": "code",
   "execution_count": 71,
   "metadata": {
    "collapsed": true
   },
   "outputs": [],
   "source": [
    "from gensim import corpora, models, similarities"
   ]
  },
  {
   "cell_type": "code",
   "execution_count": 78,
   "metadata": {},
   "outputs": [
    {
     "name": "stdout",
     "output_type": "stream",
     "text": [
      "Running LDA with: {'num_topics': 10, 'passes': 25, 'alpha': 0.001}  \n"
     ]
    }
   ],
   "source": [
    "lda_params      = {'num_topics': 10, 'passes': 25, 'alpha': 0.001}\n",
    "\n",
    "# Load the corpus and Dictionary\n",
    "corpus = corpora.MmCorpus(\"berkeley.mm\")\n",
    "dictionary = corpora.Dictionary.load(\"berkeley.dict\")\n",
    "\n",
    "print(\"Running LDA with: %s  \" % lda_params)\n",
    "lda = models.LdaModel(corpus, id2word=dictionary,\n",
    "                      num_topics=lda_params['num_topics'],\n",
    "                      passes=lda_params['passes'],\n",
    "                      alpha = lda_params['alpha'])\n",
    "lda.save(\"berkeley.lda\")"
   ]
  },
  {
   "cell_type": "code",
   "execution_count": 80,
   "metadata": {},
   "outputs": [
    {
     "data": {
      "text/plain": [
       "[(0,\n",
       "  '0.084*\"cal\" + 0.044*\"bears\" + 0.034*\"inning\" + 0.030*\"ends\" + 0.020*\"osu\" + 0.018*\"collegiate\" + 0.018*\"challenge\" + 0.018*\"tennis\" + 0.016*\"two\" + 0.015*\"fly\"'),\n",
       " (1,\n",
       "  '0.043*\"time\" + 0.043*\"second\" + 0.040*\"golden\" + 0.039*\"bear\" + 0.038*\"three\" + 0.037*\"pac\" + 0.036*\"recognized\" + 0.034*\"congrats\" + 0.034*\"weekly\" + 0.034*\"weeks\"'),\n",
       " (2,\n",
       "  '0.067*\"gets\" + 0.047*\"bears\" + 0.032*\"record\" + 0.031*\"title\" + 0.030*\"first\" + 0.027*\"baker\" + 0.023*\"ball\" + 0.020*\"week\" + 0.020*\"broke\" + 0.019*\"time\"'),\n",
       " (3,\n",
       "  '0.060*\"final\" + 0.047*\"cal\" + 0.037*\"usf\" + 0.033*\"free\" + 0.032*\"run\" + 0.031*\"heading\" + 0.030*\"home\" + 0.029*\"bottom\" + 0.028*\"friends\" + 0.025*\"relay\"'),\n",
       " (4,\n",
       "  '0.094*\"bears\" + 0.042*\"week\" + 0.040*\"rankings\" + 0.038*\"friday\" + 0.033*\"alone\" + 0.031*\"beavers\" + 0.028*\"sunday\" + 0.028*\"home\" + 0.027*\"time\" + 0.025*\"night\"'),\n",
       " (5,\n",
       "  '0.089*\"record\" + 0.083*\"back\" + 0.071*\"american\" + 0.051*\"wins\" + 0.047*\"ncaa\" + 0.045*\"title\" + 0.044*\"defends\" + 0.043*\"https\" + 0.036*\"place\" + 0.032*\"second\"'),\n",
       " (6,\n",
       "  '0.062*\"bears\" + 0.039*\"play\" + 0.038*\"double\" + 0.034*\"cal\" + 0.031*\"ncaa\" + 0.028*\"mckeever\" + 0.028*\"records\" + 0.025*\"championships\" + 0.024*\"improve\" + 0.024*\"save\"'),\n",
       " (7,\n",
       "  '0.045*\"pac\" + 0.042*\"join\" + 0.042*\"diamond\" + 0.032*\"evans\" + 0.032*\"first\" + 0.032*\"three\" + 0.030*\"cal\" + 0.027*\"play\" + 0.026*\"season\" + 0.025*\"game\"'),\n",
       " (8,\n",
       "  '0.045*\"today\" + 0.029*\"cal\" + 0.026*\"mpsf\" + 0.025*\"bear\" + 0.022*\"bears\" + 0.022*\"early\" + 0.020*\"state\" + 0.020*\"help\" + 0.020*\"arizona\" + 0.020*\"play\"'),\n",
       " (9,\n",
       "  '0.067*\"berkeley\" + 0.059*\"may\" + 0.059*\"commencement\" + 0.059*\"give\" + 0.059*\"harris\" + 0.059*\"kamala\" + 0.059*\"address\" + 0.046*\"cal\" + 0.021*\"night\" + 0.018*\"april\"')]"
      ]
     },
     "execution_count": 80,
     "metadata": {},
     "output_type": "execute_result"
    }
   ],
   "source": [
    "lda = models.LdaModel.load(\"berkeley.lda\")\n",
    "lda.print_topics()"
   ]
  },
  {
   "cell_type": "markdown",
   "metadata": {},
   "source": [
    "## Visualize"
   ]
  },
  {
   "cell_type": "code",
   "execution_count": 81,
   "metadata": {},
   "outputs": [
    {
     "name": "stderr",
     "output_type": "stream",
     "text": [
      "/Users/jbloom/anaconda3/lib/python3.6/site-packages/pyLDAvis/_prepare.py:387: DeprecationWarning: \n",
      ".ix is deprecated. Please use\n",
      ".loc for label based indexing or\n",
      ".iloc for positional indexing\n",
      "\n",
      "See the documentation here:\n",
      "http://pandas.pydata.org/pandas-docs/stable/indexing.html#ix-indexer-is-deprecated\n",
      "  topic_term_dists = topic_term_dists.ix[topic_order]\n"
     ]
    },
    {
     "data": {
      "text/html": [
       "\n",
       "<link rel=\"stylesheet\" type=\"text/css\" href=\"https://cdn.rawgit.com/bmabey/pyLDAvis/files/ldavis.v1.0.0.css\">\n",
       "\n",
       "\n",
       "<div id=\"ldavis_el274341120391996329134411240\"></div>\n",
       "<script type=\"text/javascript\">\n",
       "\n",
       "var ldavis_el274341120391996329134411240_data = {\"mdsDat\": {\"Freq\": [15.42171677974776, 13.580645449678958, 13.324550971102441, 10.173379200604149, 9.628965864866524, 8.622679585112799, 8.040654770586805, 7.288095199328129, 7.0221607189105475, 6.89715146006189], \"cluster\": [1, 1, 1, 1, 1, 1, 1, 1, 1, 1], \"topics\": [1, 2, 3, 4, 5, 6, 7, 8, 9, 10], \"x\": [0.11035505915842388, 0.12107408372432403, -0.19228596965883699, 0.205096919246594, 0.09563413292005084, -0.11770673373301842, -0.11025130403516192, -0.16679494110610502, -0.06006326586341583, 0.11494201934714512], \"y\": [-0.10066473071883593, 0.04965776462585744, 0.15526835084793253, 0.2148468115402415, -0.09934025677135694, -0.08989196897451071, 0.07716296487338062, 0.045672248760601615, -0.1998789967449805, -0.0528321874383292]}, \"tinfo\": {\"Category\": [\"Default\", \"Default\", \"Default\", \"Default\", \"Default\", \"Default\", \"Default\", \"Default\", \"Default\", \"Default\", \"Default\", \"Default\", \"Default\", \"Default\", \"Default\", \"Default\", \"Default\", \"Default\", \"Default\", \"Default\", \"Default\", \"Default\", \"Default\", \"Default\", \"Default\", \"Default\", \"Default\", \"Default\", \"Default\", \"Default\", \"Topic1\", \"Topic1\", \"Topic1\", \"Topic1\", \"Topic1\", \"Topic1\", \"Topic1\", \"Topic1\", \"Topic1\", \"Topic1\", \"Topic1\", \"Topic1\", \"Topic1\", \"Topic1\", \"Topic1\", \"Topic1\", \"Topic1\", \"Topic1\", \"Topic1\", \"Topic1\", \"Topic1\", \"Topic1\", \"Topic1\", \"Topic1\", \"Topic1\", \"Topic1\", \"Topic1\", \"Topic1\", \"Topic1\", \"Topic1\", \"Topic1\", \"Topic1\", \"Topic1\", \"Topic1\", \"Topic1\", \"Topic1\", \"Topic1\", \"Topic1\", \"Topic1\", \"Topic1\", \"Topic1\", \"Topic1\", \"Topic1\", \"Topic1\", \"Topic1\", \"Topic1\", \"Topic1\", \"Topic1\", \"Topic1\", \"Topic1\", \"Topic1\", \"Topic1\", \"Topic2\", \"Topic2\", \"Topic2\", \"Topic2\", \"Topic2\", \"Topic2\", \"Topic2\", \"Topic2\", \"Topic2\", \"Topic2\", \"Topic2\", \"Topic2\", \"Topic2\", \"Topic2\", \"Topic2\", \"Topic2\", \"Topic2\", \"Topic2\", \"Topic2\", \"Topic2\", \"Topic2\", \"Topic2\", \"Topic2\", \"Topic2\", \"Topic2\", \"Topic2\", \"Topic2\", \"Topic2\", \"Topic2\", \"Topic2\", \"Topic2\", \"Topic2\", \"Topic2\", \"Topic2\", \"Topic2\", \"Topic2\", \"Topic2\", \"Topic2\", \"Topic2\", \"Topic2\", \"Topic2\", \"Topic2\", \"Topic2\", \"Topic2\", \"Topic2\", \"Topic2\", \"Topic2\", \"Topic2\", \"Topic3\", \"Topic3\", \"Topic3\", \"Topic3\", \"Topic3\", \"Topic3\", \"Topic3\", \"Topic3\", \"Topic3\", \"Topic3\", \"Topic3\", \"Topic3\", \"Topic3\", \"Topic3\", \"Topic3\", \"Topic3\", \"Topic3\", \"Topic3\", \"Topic3\", \"Topic3\", \"Topic3\", \"Topic3\", \"Topic3\", \"Topic3\", \"Topic3\", \"Topic3\", \"Topic3\", \"Topic3\", \"Topic3\", \"Topic3\", \"Topic3\", \"Topic3\", \"Topic3\", \"Topic3\", \"Topic3\", \"Topic3\", \"Topic3\", \"Topic3\", \"Topic3\", \"Topic3\", \"Topic3\", \"Topic3\", \"Topic3\", \"Topic3\", \"Topic3\", \"Topic3\", \"Topic3\", \"Topic3\", \"Topic4\", \"Topic4\", \"Topic4\", \"Topic4\", \"Topic4\", \"Topic4\", \"Topic4\", \"Topic4\", \"Topic4\", \"Topic4\", \"Topic4\", \"Topic4\", \"Topic4\", \"Topic4\", \"Topic4\", \"Topic4\", \"Topic4\", \"Topic4\", \"Topic4\", \"Topic4\", \"Topic4\", \"Topic4\", \"Topic4\", \"Topic4\", \"Topic4\", \"Topic4\", \"Topic4\", \"Topic4\", \"Topic4\", \"Topic4\", \"Topic4\", \"Topic4\", \"Topic4\", \"Topic4\", \"Topic4\", \"Topic4\", \"Topic4\", \"Topic4\", \"Topic4\", \"Topic4\", \"Topic4\", \"Topic4\", \"Topic4\", \"Topic4\", \"Topic4\", \"Topic4\", \"Topic4\", \"Topic4\", \"Topic4\", \"Topic4\", \"Topic4\", \"Topic4\", \"Topic5\", \"Topic5\", \"Topic5\", \"Topic5\", \"Topic5\", \"Topic5\", \"Topic5\", \"Topic5\", \"Topic5\", \"Topic5\", \"Topic5\", \"Topic5\", \"Topic5\", \"Topic5\", \"Topic5\", \"Topic5\", \"Topic5\", \"Topic5\", \"Topic5\", \"Topic5\", \"Topic5\", \"Topic5\", \"Topic5\", \"Topic5\", \"Topic5\", \"Topic5\", \"Topic5\", \"Topic5\", \"Topic5\", \"Topic5\", \"Topic5\", \"Topic5\", \"Topic5\", \"Topic5\", \"Topic5\", \"Topic5\", \"Topic5\", \"Topic5\", \"Topic5\", \"Topic5\", \"Topic5\", \"Topic5\", \"Topic5\", \"Topic5\", \"Topic5\", \"Topic5\", \"Topic5\", \"Topic5\", \"Topic5\", \"Topic5\", \"Topic5\", \"Topic5\", \"Topic6\", \"Topic6\", \"Topic6\", \"Topic6\", \"Topic6\", \"Topic6\", \"Topic6\", \"Topic6\", \"Topic6\", \"Topic6\", \"Topic6\", \"Topic6\", \"Topic6\", \"Topic6\", \"Topic6\", \"Topic6\", \"Topic6\", \"Topic6\", \"Topic6\", \"Topic6\", \"Topic6\", \"Topic6\", \"Topic6\", \"Topic6\", \"Topic6\", \"Topic6\", \"Topic6\", \"Topic6\", \"Topic6\", \"Topic6\", \"Topic6\", \"Topic6\", \"Topic6\", \"Topic6\", \"Topic6\", \"Topic6\", \"Topic6\", \"Topic6\", \"Topic6\", \"Topic6\", \"Topic6\", \"Topic6\", \"Topic6\", \"Topic6\", \"Topic6\", \"Topic6\", \"Topic7\", \"Topic7\", \"Topic7\", \"Topic7\", \"Topic7\", \"Topic7\", \"Topic7\", \"Topic7\", \"Topic7\", \"Topic7\", \"Topic7\", \"Topic7\", \"Topic7\", \"Topic7\", \"Topic7\", \"Topic7\", \"Topic7\", \"Topic7\", \"Topic7\", \"Topic7\", \"Topic7\", \"Topic7\", \"Topic7\", \"Topic7\", \"Topic7\", \"Topic7\", \"Topic7\", \"Topic7\", \"Topic7\", \"Topic7\", \"Topic7\", \"Topic7\", \"Topic7\", \"Topic7\", \"Topic7\", \"Topic7\", \"Topic7\", \"Topic7\", \"Topic7\", \"Topic7\", \"Topic7\", \"Topic7\", \"Topic7\", \"Topic7\", \"Topic7\", \"Topic7\", \"Topic7\", \"Topic7\", \"Topic7\", \"Topic8\", \"Topic8\", \"Topic8\", \"Topic8\", \"Topic8\", \"Topic8\", \"Topic8\", \"Topic8\", \"Topic8\", \"Topic8\", \"Topic8\", \"Topic8\", \"Topic8\", \"Topic8\", \"Topic8\", \"Topic8\", \"Topic8\", \"Topic8\", \"Topic8\", \"Topic8\", \"Topic8\", \"Topic8\", \"Topic8\", \"Topic8\", \"Topic8\", \"Topic8\", \"Topic8\", \"Topic8\", \"Topic8\", \"Topic8\", \"Topic8\", \"Topic8\", \"Topic8\", \"Topic8\", \"Topic8\", \"Topic8\", \"Topic8\", \"Topic8\", \"Topic8\", \"Topic8\", \"Topic8\", \"Topic8\", \"Topic8\", \"Topic8\", \"Topic8\", \"Topic8\", \"Topic8\", \"Topic9\", \"Topic9\", \"Topic9\", \"Topic9\", \"Topic9\", \"Topic9\", \"Topic9\", \"Topic9\", \"Topic9\", \"Topic9\", \"Topic9\", \"Topic9\", \"Topic9\", \"Topic9\", \"Topic9\", \"Topic9\", \"Topic9\", \"Topic9\", \"Topic9\", \"Topic9\", \"Topic9\", \"Topic9\", \"Topic9\", \"Topic9\", \"Topic9\", \"Topic9\", \"Topic9\", \"Topic9\", \"Topic9\", \"Topic9\", \"Topic9\", \"Topic9\", \"Topic9\", \"Topic9\", \"Topic9\", \"Topic9\", \"Topic9\", \"Topic9\", \"Topic9\", \"Topic9\", \"Topic9\", \"Topic9\", \"Topic9\", \"Topic9\", \"Topic9\", \"Topic9\", \"Topic9\", \"Topic10\", \"Topic10\", \"Topic10\", \"Topic10\", \"Topic10\", \"Topic10\", \"Topic10\", \"Topic10\", \"Topic10\", \"Topic10\", \"Topic10\", \"Topic10\", \"Topic10\", \"Topic10\", \"Topic10\", \"Topic10\", \"Topic10\", \"Topic10\", \"Topic10\", \"Topic10\", \"Topic10\", \"Topic10\", \"Topic10\", \"Topic10\", \"Topic10\", \"Topic10\", \"Topic10\", \"Topic10\", \"Topic10\", \"Topic10\", \"Topic10\", \"Topic10\", \"Topic10\", \"Topic10\", \"Topic10\", \"Topic10\", \"Topic10\", \"Topic10\", \"Topic10\", \"Topic10\", \"Topic10\", \"Topic10\", \"Topic10\", \"Topic10\", \"Topic10\", \"Topic10\", \"Topic10\", \"Topic10\", \"Topic10\", \"Topic10\", \"Topic10\", \"Topic10\", \"Topic10\"], \"Freq\": [86.0, 169.0, 57.0, 70.0, 45.0, 45.0, 45.0, 45.0, 56.0, 47.0, 48.0, 51.0, 38.0, 38.0, 59.0, 31.0, 54.0, 26.0, 33.0, 55.0, 40.0, 28.0, 66.0, 30.0, 32.0, 21.0, 44.0, 33.0, 31.0, 26.0, 30.13257976573682, 16.06702244124081, 16.06702244124081, 8.550123538893857, 8.46304402030805, 7.610764905962191, 7.610764905962191, 7.610764905962191, 7.610764905962191, 7.610764905962191, 7.60957615153592, 6.671090357470668, 6.670897795537918, 12.308129649803563, 5.731415401871463, 26.139846765421623, 4.7921915215819535, 4.791891483221624, 4.791891483221624, 11.143046092491648, 9.408612673793941, 3.852667195824434, 3.852366750356424, 3.852215713407059, 3.8522132707609775, 3.8449911805137, 16.067276476433275, 7.610764905962191, 7.550430733536765, 2.9129924437790695, 5.708397126523586, 17.40516747341844, 9.11947909978717, 12.30036447791086, 73.0033048106736, 12.388535045079681, 12.882394929320448, 14.027101933021498, 38.3885248522505, 10.896861564533765, 8.550178091323009, 10.88385121728898, 12.179557716448729, 11.979422766632366, 11.742985210754549, 10.072355336133189, 12.220838435224037, 10.151228378100921, 7.970815009434285, 8.615496890185169, 7.872491990935889, 8.404575215273438, 21.475735703321174, 21.4638146465667, 18.687202202676705, 18.68719646657337, 14.967898460468868, 14.967898460468868, 17.756198214902465, 7.530438196720052, 7.521308471250623, 28.911056400526302, 6.601109868132342, 6.601109868132342, 6.601109868132342, 6.601109868132342, 6.599706673854193, 5.667082595394479, 4.741409598656541, 4.741351520610282, 4.740961824090009, 4.740961824090009, 4.740624111006203, 18.687189296444203, 3.8119314143692233, 3.8119292633304727, 3.81178048315024, 18.869527115208577, 2.882297996785421, 2.882155669721439, 2.8817462553459547, 2.881388824406937, 7.529871756515791, 18.68734847331173, 16.636182452134417, 14.967898460468868, 29.994600584269143, 6.947138150734252, 24.19313435249136, 47.7712465735325, 6.6012582898061165, 15.838841144255655, 26.35896364529517, 7.351026507669079, 15.734854194960095, 11.249985006306678, 8.932017044767665, 7.310394819700681, 6.74783222129415, 6.601963113503317, 44.43161358953335, 44.43161358953335, 44.43161358953335, 44.43161358953335, 13.948301510945274, 13.948301510945274, 13.948301510945274, 44.43161358953335, 9.330057459890078, 44.43161358953335, 7.482551043048345, 7.482551043048345, 50.407907401891165, 6.3744259530253204, 4.711334682542514, 4.711219661603789, 4.711219661603789, 3.78752976746112, 3.787393290017006, 3.787393290017006, 2.8637143000000265, 13.948301510945274, 11.178543841059907, 11.178543841059907, 1.9400356617290366, 1.9400356617290366, 1.9400356617290366, 1.9400354858560416, 1.9400354858560416, 1.9400354858560416, 1.9400354858560416, 3.787393290017006, 1.9400354858560416, 7.4825489325724055, 3.78752976746112, 3.787513938891571, 4.709039188211877, 6.554332067538638, 15.549027162165892, 34.92689103038072, 5.175001673841968, 7.6356512991569385, 7.482551043048345, 8.405989790554166, 8.406668660314836, 7.443596581641542, 6.002298393397355, 4.719576794579827, 25.57289137199413, 29.21318319991277, 21.00081563573436, 3.7313858685918606, 3.7311189196587153, 3.708079131958002, 2.821255976829679, 2.821255976829679, 2.821255976829679, 2.821255976829679, 2.821255976829679, 2.821255976829679, 2.8212052189339407, 2.8211101485895407, 2.8211101485895407, 2.8211101485895407, 2.798040013575502, 41.10167068383377, 1.9112717790274893, 1.9112717790274893, 1.9112717790274893, 1.9112298836214827, 1.9111263536277932, 1.9111263536277932, 1.9111263536277932, 1.9111263536277932, 48.048981756093966, 9.190591992957339, 25.839780147633068, 2.821255976829679, 24.662910262635332, 51.21404002854373, 26.95939942320211, 6.459743616687081, 15.381885424450852, 2.8211101485895407, 6.0995902960714234, 18.376169428088033, 8.281507337862964, 8.28130430628001, 10.058478961691241, 4.3822852500848875, 5.5397333916749965, 3.730897625975706, 6.454825203446017, 5.551944828284758, 4.811893097050739, 3.7313858685918606, 3.7313858685918606, 5.159906418095082, 3.7318537006256016, 4.736023202375628, 15.485983198149865, 10.95757816701357, 10.026389427612486, 8.240825228462638, 7.335144323910854, 6.429818266767637, 5.523856737904208, 5.523737269220809, 8.238804936769741, 3.712500012574403, 10.050290281575716, 2.8076103974086277, 2.8076103974086277, 2.8076103974086277, 2.8076103974086277, 2.8076103974086277, 2.8076103974086277, 2.8076103974086277, 2.8074655098564194, 2.8074655098564194, 2.807465255667731, 2.807320113926835, 16.740290497315744, 20.443743426103836, 4.513487713787352, 1.9019296199511884, 1.9019296199511884, 1.9019293657625003, 1.9019293657625003, 1.9019293657625003, 1.9019293657625003, 1.9019293657625003, 8.232495973531478, 32.605901450855896, 15.953710719320815, 7.561657964391672, 13.653981267573817, 16.546178797282465, 18.2207006680425, 6.357403976551307, 17.267273468698257, 13.829959146599133, 4.618024336894327, 6.139764063171528, 25.44425717463891, 3.7130015268559946, 5.531041635361611, 3.7130015268559946, 10.147015177920471, 4.618266324525383, 7.334923179752221, 9.05675922453497, 20.654479948915345, 10.819206418782949, 9.925419167410032, 9.925419167410032, 9.925419167410032, 9.925275308787006, 9.925275308787006, 8.12314103869435, 5.449913215011017, 4.560245054844216, 4.559991026009887, 4.55874865201547, 4.545174043087088, 4.543923929862951, 3.6661985392756886, 3.6654869853902814, 3.665359970973117, 11.713286850387602, 2.7718517871189157, 2.770750540254681, 2.76985187910958, 2.7642393441919615, 1.8778090273530457, 1.8778090273530457, 1.8778090273530457, 1.8768685971298984, 1.8768685971298984, 1.8765575483824868, 1.8460027280124438, 20.591384285254538, 12.605185729708909, 22.105509039562467, 15.8409795274648, 12.292471682161233, 15.814442164004703, 9.925419167410032, 15.448977526687443, 7.426470602536171, 9.232975716425239, 13.012131727826231, 10.8193002000372, 5.990435131348984, 14.876690624838114, 5.883706145777226, 6.824475529285696, 4.900853562545784, 11.674974622208923, 9.892634049235006, 9.001250229272362, 9.001250229272362, 8.110009047973396, 8.110009047973396, 6.3276688995193116, 6.3276688995193116, 5.436423897541855, 4.545185687881716, 4.544240706734835, 3.6540888433257597, 3.6540888433257597, 3.6540888433257597, 3.6540888433257597, 3.6540888433257597, 3.654088418805927, 3.654088418805927, 3.653812056395047, 3.653812056395047, 3.6538035659983996, 3.6538035659983996, 3.6538035659983996, 3.6538035659983996, 3.6538035659983996, 3.6531561732540183, 6.3276688995193116, 2.7628476620267937, 2.7627048111031978, 2.7627048111031978, 4.791384266591739, 5.30947463782698, 20.58802661110581, 8.828963949538528, 9.001568619146648, 11.29203565836999, 7.21891050533811, 8.110009047973396, 9.001105043489687, 13.018688568771834, 6.4462521468974545, 7.219481909032495, 6.327811962702825, 5.2184720194387975, 6.327811962702825, 9.929722648910804, 5.148545961688666, 4.545037530460215, 4.681179342625468, 15.04415096528378, 14.164316586285612, 14.164315047136853, 14.164315047136853, 5.366838567480719, 5.366838567480719, 5.366838567480719, 5.366838567480719, 5.366838567480719, 5.366838567480719, 5.366838567480719, 5.366838567480719, 5.366838567480719, 3.6066264899725478, 2.7273404327196795, 2.7273404327196795, 2.7273404327196795, 2.7273404327196795, 2.7271672784843215, 2.727089936259195, 2.7270880123232466, 1.8476486173752893, 1.8476486173752893, 1.8476484249816945, 1.8476339954620813, 1.847615910464166, 1.8476082147203725, 1.8475079776574597, 1.8475079776574597, 1.8475079776574597, 16.681280394853268, 6.2457852424322855, 16.302060306229357, 14.164458187971416, 15.714328656961824, 15.376688672055195, 2.7273404327196795, 17.688259235364427, 17.587949832460016, 4.487005727631309, 6.458488289933141, 3.637277483141227, 7.866314567851603, 3.6074491649840925, 3.063829519141962, 3.0287817551503555, 2.7277629290539527, 15.925203489174603, 13.285666188119661, 12.39586735429398, 9.76595686292093, 8.886487774583845, 8.886487774583845, 5.366777707891648, 14.99070817065241, 3.6072759961825684, 3.6072759961825684, 3.6071821972589944, 3.607160323201718, 2.727524584207928, 2.727524584207928, 2.727524584207928, 2.727524584207928, 2.727524584207928, 2.7274939976024153, 2.7270279689584136, 2.726963459026786, 3.8436285217716293, 1.847773357606655, 1.847773357606655, 1.847773357606655, 1.847773357606655, 1.847773357606655, 1.847773357606655, 1.847773357606655, 1.847773357606655, 1.847773357606655, 1.847773357606655, 3.6072759961825684, 8.006595293477112, 11.23014397153307, 16.805156031252164, 5.366777707891648, 7.126272004666058, 37.56492213596031, 11.127756329131097, 9.938340005619551, 10.845775261557518, 9.028296175664721, 5.506260043966585, 4.487308619554563, 4.4915106630319785, 2.7276654679666557, 2.727663058112888, 8.822398171694752, 7.9519572889552546, 7.078186649153522, 4.455445454106452, 3.582494872583826, 4.150430385051219, 2.708848953013263, 2.708848953013263, 2.708848770939933, 2.708848770939933, 2.708848770939933, 2.708848770939933, 2.708848770939933, 2.707903628282996, 4.455680328702377, 1.8352161427224725, 1.8352161427224725, 1.8350764924782286, 1.8350764924782286, 1.8350764924782286, 1.8350764924782286, 1.8350764924782286, 1.8350764924782286, 3.581649324038495, 10.564087614466402, 4.453667690110626, 2.708848770939933, 3.575237065496402, 3.582163499122908, 4.455983662870448, 26.199679269111805, 11.629620070488098, 12.064306308707113, 4.442089647044817, 3.5693269651989312, 3.55631964649125, 18.3347508471001, 2.708848770939933, 12.32124018102313, 7.952100762739432, 5.650010730196338, 5.191390952725857, 5.586939072037179, 7.576421577656755, 4.237790989602345, 6.602262258236576, 3.5530889373206302, 5.330479682819597, 4.456012066309956, 4.457097587504458, 4.0816292433381225, 3.69053063206961, 3.5821784291359826], \"Term\": [\"record\", \"bears\", \"american\", \"back\", \"harris\", \"give\", \"kamala\", \"address\", \"berkeley\", \"commencement\", \"may\", \"gets\", \"pac\", \"title\", \"ncaa\", \"wins\", \"final\", \"defends\", \"three\", \"play\", \"https\", \"bear\", \"second\", \"inning\", \"double\", \"join\", \"week\", \"first\", \"diamond\", \"golden\", \"inning\", \"tennis\", \"challenge\", \"across\", \"greene\", \"battleship\", \"mid\", \"sink\", \"wet\", \"amount\", \"wall\", \"bay\", \"history\", \"third\", \"blistering\", \"ends\", \"matchday\", \"indian\", \"fastest\", \"scores\", \"vaughn\", \"colorado\", \"errant\", \"wells\", \"presented\", \"heads\", \"collegiate\", \"weather\", \"doubles\", \"short\", \"left\", \"osu\", \"throw\", \"take\", \"cal\", \"leads\", \"fly\", \"two\", \"bears\", \"trails\", \"action\", \"bottom\", \"school\", \"relay\", \"free\", \"takes\", \"second\", \"gets\", \"single\", \"time\", \"lead\", \"back\", \"mckeever\", \"records\", \"save\", \"career\", \"among\", \"teri\", \"year\", \"including\", \"line\", \"double\", \"check\", \"individuals\", \"score\", \"relays\", \"field\", \"board\", \"recaps\", \"finals\", \"gerlach\", \"tim\", \"fantastic\", \"ballgame\", \"tribute\", \"qualifies\", \"list\", \"championships\", \"plates\", \"made\", \"nice\", \"gives\", \"looking\", \"improve\", \"straight\", \"part\", \"play\", \"coach\", \"ncaa\", \"bears\", \"water\", \"american\", \"cal\", \"right\", \"record\", \"tonight\", \"final\", \"great\", \"two\", \"free\", \"kamala\", \"address\", \"harris\", \"give\", \"tickets\", \"april\", \"buy\", \"commencement\", \"shutdown\", \"may\", \"limbhasut\", \"stuff\", \"berkeley\", \"utah\", \"catch\", \"side\", \"strikes\", \"need\", \"jacob\", \"tba\", \"competes\", \"park\", \"collin\", \"morikawa\", \"penina\", \"davidson\", \"things\", \"col\", \"build\", \"racing\", \"prepare\", \"clinched\", \"spring\", \"won\", \"preview\", \"thursday\", \"plays\", \"day\", \"night\", \"cal\", \"innings\", \"great\", \"congrats\", \"https\", \"week\", \"gets\", \"back\", \"delivers\", \"defends\", \"wins\", \"place\", \"previous\", \"mound\", \"sets\", \"enjoyed\", \"hakathon\", \"mash\", \"meeting\", \"startups\", \"judging\", \"ronaldson\", \"setting\", \"hold\", \"increases\", \"order\", \"american\", \"high\", \"version\", \"baby\", \"walk\", \"victory\", \"courtesy\", \"molloy\", \"ber\", \"back\", \"team\", \"title\", \"always\", \"https\", \"record\", \"ncaa\", \"medley\", \"school\", \"tomorrow\", \"set\", \"second\", \"part\", \"finish\", \"tonight\", \"recap\", \"take\", \"best\", \"relay\", \"today\", \"straight\", \"another\", \"goes\", \"cal\", \"takes\", \"bears\", \"friends\", \"earns\", \"captures\", \"totals\", \"con\", \"watch\", \"race\", \"video\", \"qualifying\", \"fast\", \"points\", \"speak\", \"future\", \"class\", \"graduating\", \"often\", \"united\", \"states\", \"freshman\", \"reuben\", \"link\", \"seed\", \"heading\", \"usf\", \"flower\", \"champ\", \"defending\", \"onto\", \"hull\", \"haas\", \"icymi\", \"mbas\", \"swim\", \"final\", \"bottom\", \"morning\", \"finish\", \"home\", \"free\", \"live\", \"run\", \"relay\", \"prelims\", \"big\", \"cal\", \"look\", \"singles\", \"opening\", \"second\", \"starts\", \"tonight\", \"bears\", \"join\", \"welcome\", \"says\", \"dry\", \"forecast\", \"plans\", \"games\", \"pitch\", \"brings\", \"benedetti\", \"reyes\", \"hit\", \"outs\", \"wild\", \"usc\", \"closer\", \"men\", \"weekend\", \"load\", \"end\", \"infield\", \"put\", \"produces\", \"flying\", \"bring\", \"caught\", \"stealing\", \"still\", \"ruff\", \"diamond\", \"season\", \"pac\", \"evans\", \"game\", \"first\", \"come\", \"three\", \"walks\", \"trails\", \"play\", \"tonight\", \"single\", \"cal\", \"osu\", \"run\", \"gets\", \"mpsf\", \"early\", \"arizona\", \"help\", \"continue\", \"roll\", \"celebrate\", \"true\", \"fourth\", \"getting\", \"round\", \"illes\", \"taken\", \"player\", \"nusi\", \"named\", \"west\", \"pool\", \"company\", \"practice\", \"duty\", \"props\", \"extra\", \"pressed\", \"crew\", \"amazing\", \"sure\", \"honor\", \"congratulations\", \"cheering\", \"quick\", \"tournament\", \"today\", \"beats\", \"state\", \"bear\", \"come\", \"improve\", \"play\", \"cal\", \"golden\", \"https\", \"evans\", \"big\", \"diamond\", \"bears\", \"great\", \"season\", \"first\", \"recognized\", \"weekly\", \"weeks\", \"award\", \"mode\", \"nfl\", \"beast\", \"lynch\", \"marshawn\", \"founder\", \"legend\", \"official\", \"stage\", \"qualify\", \"buying\", \"leagues\", \"local\", \"support\", \"sees\", \"series\", \"college\", \"rough\", \"well\", \"tick\", \"excited\", \"lea\", \"opener\", \"skies\", \"blue\", \"joanne\", \"golden\", \"alum\", \"bear\", \"congrats\", \"three\", \"pac\", \"little\", \"time\", \"second\", \"baseball\", \"takes\", \"plate\", \"cal\", \"goes\", \"play\", \"berkeley\", \"night\", \"rankings\", \"alone\", \"beavers\", \"solo\", \"ballpark\", \"returns\", \"clash\", \"friday\", \"departs\", \"hand\", \"ranked\", \"years\", \"usa\", \"wednesday\", \"released\", \"polo\", \"cwpa\", \"held\", \"dancing\", \"grab\", \"buckley\", \"wallis\", \"alas\", \"absence\", \"real\", \"anigwe\", \"alex\", \"athlete\", \"introductions\", \"cupertino\", \"changer\", \"quality\", \"shot\", \"sunday\", \"week\", \"baseball\", \"ready\", \"bears\", \"home\", \"night\", \"time\", \"run\", \"start\", \"park\", \"cal\", \"game\", \"two\", \"ball\", \"broke\", \"form\", \"complete\", \"defend\", \"leadoff\", \"pacific\", \"dance\", \"corner\", \"full\", \"lower\", \"touching\", \"mark\", \"throws\", \"lineup\", \"court\", \"looks\", \"finalist\", \"ever\", \"hours\", \"updates\", \"evenin\", \"perfect\", \"way\", \"baker\", \"started\", \"afternoon\", \"sabouri\", \"oregon\", \"prelim\", \"gets\", \"first\", \"title\", \"event\", \"tying\", \"win\", \"bears\", \"old\", \"record\", \"week\", \"fly\", \"start\", \"game\", \"time\", \"morning\", \"back\", \"plate\", \"school\", \"today\", \"second\", \"free\", \"takes\", \"state\"], \"Total\": [86.0, 169.0, 57.0, 70.0, 45.0, 45.0, 45.0, 45.0, 56.0, 47.0, 48.0, 51.0, 38.0, 38.0, 59.0, 31.0, 54.0, 26.0, 33.0, 55.0, 40.0, 28.0, 66.0, 30.0, 32.0, 21.0, 44.0, 33.0, 31.0, 26.0, 30.971521032163892, 16.877213026188006, 16.877213026188006, 9.359841880654391, 9.355879517391553, 8.42017775776939, 8.42017775776939, 8.42017775776939, 8.42017775776939, 8.42017775776939, 8.42018173454338, 7.480503209277869, 7.480498351312982, 13.998420346542133, 6.540837173084002, 29.93556016532616, 5.601180964891695, 5.601168566657106, 5.601171489809695, 13.061904553554655, 11.174418627876651, 4.66151580101045, 4.661501628796182, 4.66149279684254, 4.661492925543583, 4.661337908473192, 19.498969794759734, 9.311419018665823, 9.326469698724939, 3.721841048965085, 7.420180404663936, 25.84205033903564, 12.895373294510396, 18.57838154498543, 205.2342103551634, 21.219521415080226, 22.91930744367514, 31.22593656311632, 169.16137712061814, 22.966812698128034, 15.8682439340123, 27.557914143852926, 40.29357818555269, 40.32744663946037, 41.19737511483053, 24.510985858747436, 66.94510951383937, 51.11811695313516, 14.697605404497613, 59.07931065576985, 14.747296118106796, 70.14854580746237, 22.287584343288007, 22.28751079063023, 19.498264079447704, 19.498260359799595, 15.77917428432066, 15.779174941078114, 19.448351671128457, 8.34099160852969, 8.340613821467525, 32.347474022413245, 7.411236038868692, 7.411236038868692, 7.411236038868692, 7.411236038868692, 7.411225583845814, 6.481429021693327, 5.551677686706964, 5.551672302651723, 5.55165344239641, 5.55165344239641, 5.551686332939782, 22.22864891678192, 4.621917832184498, 4.621915594420886, 4.621907652364378, 24.11857816688665, 3.6921432001453516, 3.6921420875367126, 3.692131696514533, 3.692108850956012, 10.17496228429081, 29.267262524703735, 25.880062656011688, 23.970320287775365, 55.620641415748345, 10.069333316995806, 59.646758958936886, 169.16137712061814, 10.050919832555811, 57.663460447087445, 205.2342103551634, 13.893021865417271, 86.48522001211617, 43.61131154580165, 54.76845399651492, 25.491143422774794, 31.22593656311632, 41.19737511483053, 45.24631877916002, 45.24631877916002, 45.24631877916002, 45.24631877916002, 14.760161249337875, 14.760161249337875, 14.760161249337875, 47.96336092089082, 10.141062501630781, 48.81128341149217, 8.29341669703478, 8.29341669703478, 56.148174495763875, 7.366674174531388, 5.521943089558922, 5.521938911711207, 5.521938911711207, 4.598117505284223, 4.598114849857825, 4.598114849857825, 3.6742908849112745, 19.159650438137877, 15.553702751885679, 15.553702751885679, 2.750469106456783, 2.750469106456783, 2.750469106456783, 2.750468930583788, 2.750468930583788, 2.750468930583788, 2.750468930583788, 5.477948442803691, 2.750468930583788, 11.112438936080812, 5.49231227547207, 5.537787421764508, 7.4013167681780425, 11.96855218649292, 38.077190766220546, 205.2342103551634, 9.937383869778616, 25.491143422774794, 25.935711375854453, 40.920656479321366, 44.88280390581562, 51.11811695313516, 70.14854580746237, 9.280480959094367, 26.386437806049248, 31.88649511176506, 25.45907456861763, 4.543331672620068, 4.543343592498796, 4.543218735426324, 3.6332017808578865, 3.6332017808578865, 3.6332017808578865, 3.6332017808578865, 3.6332017808578865, 3.6332017808578865, 3.633200859386597, 3.6332009275473176, 3.6332009275473176, 3.6332009275473176, 3.6330884943729935, 57.663460447087445, 2.723074917859527, 2.723074917859527, 2.723074917859527, 2.7230752342151425, 2.7230721576560004, 2.7230721576560004, 2.7230721576560004, 2.723077379664495, 70.14854580746237, 13.549263997990083, 38.631934602138415, 4.513034380215302, 40.920656479321366, 86.48522001211617, 59.646758958936886, 11.809929282382576, 40.29357818555269, 4.557028593071365, 13.4845992619454, 66.94510951383937, 23.970320287775365, 24.42665981516993, 43.61131154580165, 10.137550184107916, 18.57838154498543, 8.073624478026199, 40.32744663946037, 38.58669342612525, 25.880062656011688, 10.903531599143578, 14.640368751208921, 205.2342103551634, 24.510985858747436, 169.16137712061814, 16.299415169124195, 11.770972532958488, 10.864879230778838, 9.05392993170093, 8.148249027149147, 7.242588344553996, 6.336887586210199, 6.3369276574262186, 9.933780379102942, 4.5255391299845185, 12.61318958931479, 3.6198584159592495, 3.6198584159592495, 3.6198584159592495, 3.6198584159592495, 3.6198584159592495, 3.6198584159592495, 3.6198584159592495, 3.6198623590022447, 3.6198623590022447, 3.61986369414514, 3.6198578011963845, 21.89035758025627, 28.171645282499373, 6.374847561241047, 2.71417763850181, 2.71417763850181, 2.714177384313122, 2.714177384313122, 2.714177384313122, 2.714177384313122, 2.714177384313122, 12.618668506801258, 54.76845399651492, 27.557914143852926, 12.525822239153715, 24.42665981516993, 33.08173115217129, 41.19737511483053, 10.742533703232647, 48.84959323786127, 40.32744663946037, 8.164702983942659, 14.333673457710265, 205.2342103551634, 6.273375583800453, 14.588073135301894, 6.404881932790854, 66.94510951383937, 10.889318201142984, 43.61131154580165, 169.16137712061814, 21.469305105691603, 11.633149010707344, 10.738956625143391, 10.738956625143391, 10.738956625143391, 10.7389567925417, 10.7389567925417, 8.950289899685716, 6.268164938840921, 5.373787465636234, 5.3738057982017295, 5.373784432867107, 5.374053516688356, 5.3734760185816155, 4.479595158885324, 4.479622803504237, 4.479624947520407, 15.149119952797127, 3.5854032031309053, 3.5854406317858234, 3.585482238706985, 3.585709411998179, 2.6912056469626804, 2.6912056469626804, 2.6912056469626804, 2.691203268176754, 2.691203268176754, 2.6912228178953357, 2.6924711370807244, 31.32003628335107, 19.725413863941647, 38.209434085148025, 26.922726779038463, 24.95793897015679, 33.752449651777695, 19.71654152902915, 33.805963073501516, 14.543043773803436, 22.966812698128034, 55.620641415748345, 43.61131154580165, 14.697605404497613, 205.2342103551634, 25.84205033903564, 48.84959323786127, 51.11811695313516, 12.4889482737879, 10.706471716146316, 9.815223880851338, 9.81523287111324, 8.923982699552372, 8.923982699552372, 7.141506566430622, 7.141506566430622, 6.250261422434236, 5.359027293679616, 5.359075752378966, 4.467780824669588, 4.467780824669588, 4.467780824669588, 4.467780824669588, 4.467780824669588, 4.467780400149755, 4.467780400149755, 4.467790831633397, 4.467790831633397, 4.467784373093211, 4.467784373093211, 4.467784373093211, 4.467784373093211, 4.467784373093211, 4.4677692175462695, 8.015418978768853, 3.5765396433706216, 3.57653763057075, 3.57653763057075, 6.273850665205021, 7.128579780237786, 38.58669342612525, 15.456910470826367, 16.082372867843116, 28.321046976036218, 19.71654152902915, 29.267262524703735, 55.620641415748345, 205.2342103551634, 26.67906896785927, 40.920656479321366, 26.922726779038463, 14.333673457710265, 31.32003628335107, 169.16137712061814, 25.491143422774794, 19.725413863941647, 33.752449651777695, 15.859978546583434, 14.980146303393084, 14.980145379480721, 14.980145564669286, 6.181814057785352, 6.181814057785352, 6.181814057785352, 6.181814057785352, 6.181814057785352, 6.181814057785352, 6.181814057785352, 6.181814057785352, 6.181814057785352, 4.422172164602488, 3.54232367775493, 3.54232367775493, 3.54232367775493, 3.54232367775493, 3.542319239464181, 3.542314512234494, 3.5423150123253175, 2.6624814424837524, 2.6624814424837524, 2.6624812500901576, 2.6624817939883387, 2.6624838676932217, 2.662481993947563, 2.6624896333611265, 2.6624896333611265, 2.66249122269271, 26.67906896785927, 9.735397003492741, 28.321046976036218, 25.935711375854453, 33.805963073501516, 38.209434085148025, 4.433564752923938, 59.07931065576985, 66.94510951383937, 10.581354762901546, 24.510985858747436, 8.841832140354795, 205.2342103551634, 14.640368751208921, 55.620641415748345, 56.148174495763875, 38.077190766220546, 16.740906102616364, 14.101219970966216, 13.22175994104603, 10.581652437120157, 9.701745442172227, 9.701745442172227, 6.182173897237231, 17.72032044882163, 4.422384553696857, 4.422384553696857, 4.422396365922552, 4.42239115409131, 3.5425003020822725, 3.5425003020822725, 3.5425003020822725, 3.5425003020822725, 3.5425003020822725, 3.5424950807348505, 3.5425275823442415, 3.542526788659527, 5.334312834539816, 2.662600244885796, 2.662600244885796, 2.662600244885796, 2.662600244885796, 2.662600244885796, 2.662600244885796, 2.662600244885796, 2.662600244885796, 2.662600244885796, 2.662600244885796, 5.296296966035089, 12.37834966312828, 17.936128642939103, 44.88280390581562, 10.581354762901546, 15.459344137421937, 169.16137712061814, 33.08173115217129, 38.077190766220546, 59.07931065576985, 48.84959323786127, 18.852971780994014, 19.159650438137877, 205.2342103551634, 24.95793897015679, 31.22593656311632, 9.642027128708344, 8.768066588429155, 7.894143218703968, 5.272412660778825, 4.398492891734072, 5.29542302418982, 3.5245596100819796, 3.5245596100819796, 3.524563824364171, 3.5245664770895893, 3.5245664770895893, 3.5245664770895893, 3.5245664770895893, 3.524563770781195, 6.178101998907694, 2.6506409867378946, 2.6506409867378946, 2.6506444766771526, 2.6506444766771526, 2.6506501670888545, 2.6506501670888545, 2.6506501670888545, 2.6506501670888545, 5.278378040641838, 16.015278536938233, 7.102114337742075, 4.415804899533178, 6.214218094950812, 6.24616066398408, 7.911917969423207, 51.11811695313516, 33.752449651777695, 38.631934602138415, 9.88301984911132, 7.188508709052053, 7.918383088424774, 169.16137712061814, 5.344831257167563, 86.48522001211617, 44.88280390581562, 22.91930744367514, 18.852971780994014, 24.95793897015679, 59.07931065576985, 12.525822239153715, 70.14854580746237, 8.841832140354795, 40.29357818555269, 38.58669342612525, 66.94510951383937, 41.19737511483053, 24.510985858747436, 16.082372867843116], \"loglift\": [30.0, 29.0, 28.0, 27.0, 26.0, 25.0, 24.0, 23.0, 22.0, 21.0, 20.0, 19.0, 18.0, 17.0, 16.0, 15.0, 14.0, 13.0, 12.0, 11.0, 10.0, 9.0, 8.0, 7.0, 6.0, 5.0, 4.0, 3.0, 2.0, 1.0, 1.8419, 1.8202, 1.8202, 1.7789, 1.7691, 1.7683, 1.7683, 1.7683, 1.7683, 1.7683, 1.7682, 1.7549, 1.7548, 1.7407, 1.7373, 1.7338, 1.7134, 1.7133, 1.7133, 1.7105, 1.6974, 1.6788, 1.6787, 1.6787, 1.6787, 1.6769, 1.6758, 1.6677, 1.6581, 1.6244, 1.6071, 1.4742, 1.5229, 1.457, 0.8357, 1.3312, 1.2933, 1.0691, 0.3863, 1.1238, 1.251, 0.9404, 0.673, 0.6556, 0.6143, 0.9801, 0.1687, 0.2528, 1.2575, -0.0559, 1.2417, -0.2524, 1.9594, 1.9589, 1.954, 1.954, 1.9437, 1.9437, 1.9055, 1.8943, 1.8931, 1.8842, 1.8808, 1.8808, 1.8808, 1.8808, 1.8806, 1.8623, 1.8388, 1.8387, 1.8387, 1.8387, 1.8386, 1.823, 1.8039, 1.8039, 1.8038, 1.7511, 1.7489, 1.7489, 1.7487, 1.7486, 1.6955, 1.5479, 1.5546, 1.5256, 1.379, 1.6254, 1.0942, 0.7321, 1.5761, 0.7044, -0.0558, 1.36, 0.2924, 0.6416, 0.1831, 0.7475, 0.4645, 0.1655, 1.9974, 1.9974, 1.9974, 1.9974, 1.959, 1.959, 1.959, 1.9391, 1.9322, 1.9216, 1.9127, 1.9127, 1.9077, 1.8709, 1.8568, 1.8568, 1.8568, 1.8216, 1.8216, 1.8216, 1.7663, 1.6981, 1.6853, 1.6853, 1.6665, 1.6665, 1.6665, 1.6665, 1.6665, 1.6665, 1.6665, 1.6465, 1.6665, 1.6201, 1.6439, 1.6357, 1.5634, 1.4134, 1.1199, 0.2447, 1.3631, 0.8101, 0.7725, 0.4329, 0.3405, 0.0888, -0.4429, 1.3394, 2.2541, 2.1978, 2.0929, 2.0885, 2.0884, 2.0823, 2.0325, 2.0325, 2.0325, 2.0325, 2.0325, 2.0325, 2.0324, 2.0324, 2.0324, 2.0324, 2.0242, 1.9468, 1.9314, 1.9314, 1.9314, 1.9314, 1.9313, 1.9313, 1.9313, 1.9313, 1.907, 1.8972, 1.8832, 1.8156, 1.7791, 1.7614, 1.4913, 1.682, 1.3224, 1.8059, 1.4921, 0.9926, 1.2226, 1.2037, 0.8185, 1.4467, 1.0753, 1.5134, 0.4532, 0.3466, 0.603, 1.2131, 0.9184, -1.3978, 0.4032, -1.2903, 2.2892, 2.2688, 2.2601, 2.2463, 2.2353, 2.2214, 2.2031, 2.2031, 2.1533, 2.1424, 2.1133, 2.0863, 2.0863, 2.0863, 2.0863, 2.0863, 2.0863, 2.0863, 2.0862, 2.0862, 2.0862, 2.0862, 2.0722, 2.0198, 1.9951, 1.9848, 1.9848, 1.9848, 1.9848, 1.9848, 1.9848, 1.9848, 1.9133, 1.8218, 1.7938, 1.8357, 1.7588, 1.6476, 1.5246, 1.8158, 1.3005, 1.2702, 1.7705, 1.4926, 0.2527, 1.8159, 1.3706, 1.7952, 0.4537, 1.4826, 0.5577, -0.5869, 2.4121, 2.3782, 2.372, 2.372, 2.372, 2.372, 2.372, 2.3538, 2.3109, 2.2866, 2.2866, 2.2863, 2.2833, 2.2831, 2.2504, 2.2502, 2.2502, 2.1936, 2.1934, 2.193, 2.1927, 2.1906, 2.0909, 2.0909, 2.0909, 2.0904, 2.0904, 2.0902, 2.0733, 2.0314, 2.003, 1.9035, 1.9204, 1.7426, 1.6926, 1.7644, 1.6677, 1.7787, 1.5395, 0.9981, 1.0568, 1.5533, -0.1736, 0.971, 0.4825, 0.106, 2.4533, 2.4416, 2.4341, 2.4341, 2.425, 2.425, 2.3997, 2.3997, 2.3812, 2.3559, 2.3557, 2.3196, 2.3196, 2.3196, 2.3196, 2.3196, 2.3196, 2.3196, 2.3195, 2.3195, 2.3195, 2.3195, 2.3195, 2.3195, 2.3195, 2.3194, 2.2842, 2.2625, 2.2625, 2.2625, 2.2511, 2.226, 1.8925, 1.9606, 1.9403, 1.6012, 1.5159, 1.2373, 0.6995, -0.2371, 1.1003, 0.7858, 1.0726, 1.5103, 0.9214, -0.3147, 0.921, 1.0528, 0.5452, 2.5661, 2.5629, 2.5629, 2.5629, 2.4776, 2.4776, 2.4776, 2.4776, 2.4776, 2.4776, 2.4776, 2.4776, 2.4776, 2.4151, 2.3575, 2.3575, 2.3575, 2.3575, 2.3574, 2.3574, 2.3574, 2.2536, 2.2536, 2.2536, 2.2536, 2.2536, 2.2536, 2.2535, 2.2535, 2.2535, 2.1493, 2.1751, 2.0666, 2.014, 1.8529, 1.7087, 2.1331, 1.4129, 1.2823, 1.761, 1.2852, 1.7307, -0.6426, 1.2181, -0.28, -0.3009, -0.0172, 2.6061, 2.5965, 2.5916, 2.5759, 2.5683, 2.5683, 2.5147, 2.4888, 2.4524, 2.4524, 2.4523, 2.4523, 2.3947, 2.3947, 2.3947, 2.3947, 2.3947, 2.3947, 2.3945, 2.3944, 2.3284, 2.2908, 2.2908, 2.2908, 2.2908, 2.2908, 2.2908, 2.2908, 2.2908, 2.2908, 2.2908, 2.272, 2.2204, 2.1879, 1.6737, 1.9772, 1.8817, 1.1513, 1.5666, 1.3129, 0.961, 0.9677, 1.4253, 1.2045, -1.1659, 0.4424, 0.2183, 2.5852, 2.5764, 2.565, 2.5057, 2.4689, 2.4304, 2.4108, 2.4108, 2.4108, 2.4108, 2.4108, 2.4108, 2.4108, 2.4105, 2.3472, 2.3064, 2.3064, 2.3063, 2.3063, 2.3063, 2.3063, 2.3063, 2.3063, 2.2863, 2.258, 2.2074, 2.1854, 2.1213, 2.1181, 2.0999, 2.0057, 1.6086, 1.5102, 1.8744, 1.974, 1.8736, 0.452, 1.9945, 0.7254, 0.9434, 1.2737, 1.3844, 1.1773, 0.6202, 1.5903, 0.3109, 1.7624, 0.6513, 0.5154, -0.0353, 0.3622, 0.7807, 1.1723], \"logprob\": [30.0, 29.0, 28.0, 27.0, 26.0, 25.0, 24.0, 23.0, 22.0, 21.0, 20.0, 19.0, 18.0, 17.0, 16.0, 15.0, 14.0, 13.0, 12.0, 11.0, 10.0, 9.0, 8.0, 7.0, 6.0, 5.0, 4.0, 3.0, 2.0, 1.0, -3.367799997329712, -3.9965999126434326, -3.9965999126434326, -4.627399921417236, -4.637700080871582, -4.743800163269043, -4.743800163269043, -4.743800163269043, -4.743800163269043, -4.743800163269043, -4.74399995803833, -4.8755998611450195, -4.8755998611450195, -4.2631001472473145, -5.027400016784668, -3.5099000930786133, -5.206399917602539, -5.206399917602539, -5.206399917602539, -4.362599849700928, -4.531700134277344, -5.424600124359131, -5.424699783325195, -5.424699783325195, -5.424699783325195, -5.426599979400635, -3.9965999126434326, -4.743800163269043, -4.751800060272217, -5.70419979095459, -5.031400203704834, -3.916599988937378, -4.563000202178955, -4.263700008392334, -2.4828999042510986, -4.2565999031066895, -4.21750020980835, -4.132400035858154, -3.1256000995635986, -4.384900093078613, -4.627399921417236, -4.386099815368652, -4.273600101470947, -4.290200233459473, -4.310100078582764, -4.463600158691406, -4.270199775695801, -4.4558000564575195, -4.6975998878479, -4.619800090789795, -4.710000038146973, -4.644599914550781, -3.5792999267578125, -3.579900026321411, -3.718400001525879, -3.718400001525879, -3.9402999877929688, -3.9402999877929688, -3.7695000171661377, -4.627299785614014, -4.628499984741211, -3.2820000648498535, -4.758999824523926, -4.758999824523926, -4.758999824523926, -4.758999824523926, -4.759200096130371, -4.911600112915039, -5.089900016784668, -5.089900016784668, -5.090000152587891, -5.090000152587891, -5.090099811553955, -3.718400001525879, -5.30810022354126, -5.30810022354126, -5.30810022354126, -3.708699941635132, -5.587699890136719, -5.587699890136719, -5.587800025939941, -5.5879998207092285, -4.627399921417236, -3.718400001525879, -3.834700107574463, -3.9402999877929688, -3.2451999187469482, -4.707900047302246, -3.460200071334839, -2.7797999382019043, -4.758999824523926, -3.8838000297546387, -3.3743999004364014, -4.651400089263916, -3.890399932861328, -4.225900173187256, -4.456600189208984, -4.656899929046631, -4.736999988555908, -4.758900165557861, -2.8333001136779785, -2.8333001136779785, -2.8333001136779785, -2.8333001136779785, -3.99180006980896, -3.99180006980896, -3.99180006980896, -2.8333001136779785, -4.394000053405762, -2.8333001136779785, -4.61460018157959, -4.61460018157959, -2.7070999145507812, -4.774899959564209, -5.077199935913086, -5.077300071716309, -5.077300071716309, -5.295499801635742, -5.295499801635742, -5.295499801635742, -5.575099945068359, -3.99180006980896, -4.213200092315674, -4.213200092315674, -5.9644999504089355, -5.9644999504089355, -5.9644999504089355, -5.9644999504089355, -5.9644999504089355, -5.9644999504089355, -5.9644999504089355, -5.295499801635742, -5.9644999504089355, -4.61460018157959, -5.295499801635742, -5.295499801635742, -5.077700138092041, -4.747099876403809, -3.88319993019104, -3.073899984359741, -4.983399868011475, -4.594399929046631, -4.61460018157959, -4.498300075531006, -4.498199939727783, -4.619900226593018, -4.835100173950195, -5.075500011444092, -3.115799903869629, -2.982800006866455, -3.3127999305725098, -5.040599822998047, -5.0406999588012695, -5.046899795532227, -5.320199966430664, -5.320199966430664, -5.320199966430664, -5.320199966430664, -5.320199966430664, -5.320199966430664, -5.320199966430664, -5.320199966430664, -5.320199966430664, -5.320199966430664, -5.328499794006348, -2.6412999629974365, -5.70959997177124, -5.70959997177124, -5.70959997177124, -5.70959997177124, -5.709700107574463, -5.709700107574463, -5.709700107574463, -5.709700107574463, -2.4851999282836914, -4.139200210571289, -3.1054999828338623, -5.320199966430664, -3.152100086212158, -2.4214000701904297, -3.062999963760376, -4.491799831390381, -3.6242001056671143, -5.320199966430664, -4.549200057983398, -3.4463000297546387, -4.243299961090088, -4.2434000968933105, -4.048999786376953, -4.879799842834473, -4.645400047302246, -5.0406999588012695, -4.492499828338623, -4.643199920654297, -4.786300182342529, -5.040599822998047, -5.040599822998047, -4.7164998054504395, -5.040500164031982, -4.802199840545654, -3.5624001026153564, -3.9082999229431152, -3.9972000122070312, -4.193299770355225, -4.309700012207031, -4.441400051116943, -4.593299865722656, -4.593299865722656, -4.19350004196167, -4.990699768066406, -3.994800090789795, -5.269999980926514, -5.269999980926514, -5.269999980926514, -5.269999980926514, -5.269999980926514, -5.269999980926514, -5.269999980926514, -5.270100116729736, -5.270100116729736, -5.270100116729736, -5.270100116729736, -3.484600067138672, -3.2846999168395996, -4.795300006866455, -5.6595001220703125, -5.6595001220703125, -5.6595001220703125, -5.6595001220703125, -5.6595001220703125, -5.6595001220703125, -5.6595001220703125, -4.194300174713135, -2.8178999423980713, -3.5327000617980957, -4.279300212860107, -3.6882998943328857, -3.4962000846862793, -3.3998000621795654, -4.4527997970581055, -3.4535999298095703, -3.67549991607666, -4.77239990234375, -4.487599849700928, -3.0659000873565674, -4.990499973297119, -4.5920000076293945, -4.990499973297119, -3.9851999282836914, -4.77239990234375, -4.309700012207031, -4.098899841308594, -3.164099931716919, -3.810699939727783, -3.896899938583374, -3.896899938583374, -3.896899938583374, -3.896899938583374, -3.896899938583374, -4.097300052642822, -4.496399879455566, -4.674600124359131, -4.674699783325195, -4.674900054931641, -4.6778998374938965, -4.678199768066406, -4.8927998542785645, -4.89300012588501, -4.893099784851074, -3.731300115585327, -5.172500133514404, -5.172900199890137, -5.1732001304626465, -5.17519998550415, -5.5619001388549805, -5.5619001388549805, -5.5619001388549805, -5.562399864196777, -5.562399864196777, -5.562600135803223, -5.578999996185303, -3.167099952697754, -3.657900094985962, -3.0961999893188477, -3.4293999671936035, -3.683000087738037, -3.4310998916625977, -3.896899938583374, -3.4544999599456787, -4.1869001388549805, -3.9691998958587646, -3.6261000633239746, -3.810699939727783, -4.401800155639648, -3.4921998977661133, -4.4197998046875, -4.271500110626221, -4.60260009765625, -3.6647000312805176, -3.8303000926971436, -3.9247000217437744, -3.9247000217437744, -4.0289998054504395, -4.0289998054504395, -4.277200222015381, -4.277200222015381, -4.428999900817871, -4.607999801635742, -4.6082000732421875, -4.826300144195557, -4.826300144195557, -4.826300144195557, -4.826300144195557, -4.826300144195557, -4.826300144195557, -4.826300144195557, -4.826300144195557, -4.826300144195557, -4.826300144195557, -4.826300144195557, -4.826300144195557, -4.826300144195557, -4.826300144195557, -4.826499938964844, -4.277200222015381, -5.105800151824951, -5.105899810791016, -5.105899810791016, -4.555300235748291, -4.452600002288818, -3.097399950027466, -3.9440999031066895, -3.9247000217437744, -3.697999954223633, -4.145400047302246, -4.0289998054504395, -3.924799919128418, -3.5557000637054443, -4.258600234985352, -4.145299911499023, -4.277200222015381, -4.469900131225586, -4.277200222015381, -3.8266000747680664, -4.483399868011475, -4.608099937438965, -4.57859992980957, -3.3129000663757324, -3.3731000423431396, -3.3731000423431396, -3.3731000423431396, -4.343599796295166, -4.343599796295166, -4.343599796295166, -4.343599796295166, -4.343599796295166, -4.343599796295166, -4.343599796295166, -4.343599796295166, -4.343599796295166, -4.741099834442139, -5.020500183105469, -5.020500183105469, -5.020500183105469, -5.020500183105469, -5.020599842071533, -5.020599842071533, -5.020599842071533, -5.409900188446045, -5.409900188446045, -5.409900188446045, -5.409900188446045, -5.409900188446045, -5.409900188446045, -5.409999847412109, -5.409999847412109, -5.409999847412109, -3.2095999717712402, -4.19189977645874, -3.2325000762939453, -3.3731000423431396, -3.2692999839782715, -3.2909998893737793, -5.020500183105469, -3.150899887084961, -3.156599998474121, -4.52269983291626, -4.158400058746338, -4.732600212097168, -3.9612998962402344, -4.740799903869629, -4.904200077056885, -4.9156999588012695, -5.020400047302246, -3.2188000679016113, -3.4000000953674316, -3.4693000316619873, -3.7077999114990234, -3.8020999431610107, -3.8020999431610107, -4.306399822235107, -3.2792000770568848, -4.703700065612793, -4.703700065612793, -4.703700065612793, -4.703700065612793, -4.98330020904541, -4.98330020904541, -4.98330020904541, -4.98330020904541, -4.98330020904541, -4.98330020904541, -4.983500003814697, -4.983500003814697, -4.6402997970581055, -5.372700214385986, -5.372700214385986, -5.372700214385986, -5.372700214385986, -5.372700214385986, -5.372700214385986, -5.372700214385986, -5.372700214385986, -5.372700214385986, -5.372700214385986, -4.703700065612793, -3.906399965286255, -3.5680999755859375, -3.1649999618530273, -4.306399822235107, -4.022900104522705, -2.360599994659424, -3.577199935913086, -3.6902999877929688, -3.6029000282287598, -3.78629994392395, -4.280799865722656, -4.485400199890137, -4.484499931335449, -4.9832000732421875, -4.9832000732421875, -3.7913999557495117, -3.8952999114990234, -4.01170015335083, -4.474599838256836, -4.692599773406982, -4.545499801635742, -4.9721999168396, -4.9721999168396, -4.9721999168396, -4.9721999168396, -4.9721999168396, -4.9721999168396, -4.9721999168396, -4.972499847412109, -4.4745001792907715, -5.361499786376953, -5.361499786376953, -5.361599922180176, -5.361599922180176, -5.361599922180176, -5.361599922180176, -5.361599922180176, -5.361599922180176, -4.69290018081665, -3.6112000942230225, -4.474999904632568, -4.9721999168396, -4.694699764251709, -4.692699909210205, -4.4745001792907715, -2.703000068664551, -3.515199899673462, -3.4784998893737793, -4.47760009765625, -4.696300029754639, -4.699999809265137, -3.0599000453948975, -4.9721999168396, -3.45740008354187, -3.8952999114990234, -4.236999988555908, -4.321700096130371, -4.248300075531006, -3.943700075149536, -4.524700164794922, -4.081299781799316, -4.700900077819824, -4.295300006866455, -4.4745001792907715, -4.4741997718811035, -4.56220006942749, -4.662899971008301, -4.692699909210205]}, \"token.table\": {\"Topic\": [9, 1, 1, 2, 3, 7, 10, 9, 9, 9, 7, 8, 4, 8, 7, 2, 4, 2, 1, 9, 2, 3, 4, 6, 3, 7, 9, 8, 4, 1, 3, 4, 10, 2, 5, 10, 10, 2, 4, 9, 8, 9, 1, 1, 7, 8, 1, 2, 3, 4, 5, 6, 7, 9, 10, 8, 1, 7, 9, 6, 4, 3, 5, 8, 4, 7, 10, 5, 6, 7, 10, 1, 8, 2, 1, 5, 6, 6, 10, 3, 9, 3, 3, 8, 1, 2, 3, 4, 5, 6, 7, 8, 9, 5, 2, 3, 6, 7, 1, 5, 2, 3, 9, 2, 7, 9, 5, 3, 8, 6, 2, 8, 3, 8, 1, 10, 3, 7, 1, 3, 6, 7, 3, 5, 7, 3, 10, 5, 3, 7, 8, 7, 7, 10, 10, 4, 7, 9, 9, 10, 9, 3, 2, 3, 8, 10, 5, 4, 1, 3, 9, 4, 6, 7, 8, 2, 10, 1, 4, 6, 7, 7, 5, 6, 1, 4, 4, 1, 1, 4, 6, 7, 10, 2, 7, 10, 10, 8, 7, 2, 5, 1, 2, 1, 2, 3, 5, 7, 10, 2, 4, 5, 10, 1, 6, 7, 10, 1, 5, 1, 2, 7, 10, 6, 6, 10, 8, 7, 1, 2, 5, 10, 5, 2, 9, 5, 10, 5, 1, 5, 6, 9, 10, 6, 2, 1, 3, 5, 6, 10, 7, 3, 2, 1, 4, 8, 1, 7, 8, 9, 5, 2, 3, 6, 7, 8, 10, 1, 5, 4, 9, 3, 1, 5, 1, 9, 7, 4, 1, 6, 4, 5, 6, 9, 10, 7, 10, 3, 4, 7, 5, 5, 7, 2, 7, 10, 2, 4, 1, 2, 6, 1, 3, 8, 9, 10, 9, 3, 8, 6, 4, 3, 8, 1, 4, 5, 10, 10, 1, 2, 6, 9, 8, 1, 8, 8, 3, 2, 5, 10, 5, 2, 7, 8, 5, 9, 10, 6, 8, 5, 10, 2, 3, 4, 10, 10, 8, 2, 10, 8, 4, 1, 3, 7, 5, 2, 4, 5, 4, 6, 1, 8, 4, 3, 7, 5, 10, 4, 7, 7, 2, 3, 4, 7, 3, 8, 2, 2, 3, 5, 6, 8, 9, 7, 8, 5, 4, 10, 5, 8, 1, 5, 4, 3, 10, 1, 6, 10, 6, 6, 8, 10, 3, 9, 2, 4, 3, 10, 6, 4, 5, 6, 3, 8, 10, 2, 2, 6, 7, 8, 7, 1, 3, 5, 10, 9, 7, 7, 8, 10, 2, 5, 10, 3, 1, 7, 3, 6, 4, 6, 7, 6, 2, 8, 5, 8, 9, 10, 3, 7, 5, 3, 9, 9, 1, 9, 9, 1, 2, 4, 2, 8, 1, 2, 4, 10, 2, 1, 2, 4, 5, 10, 2, 9, 9, 5, 6, 1, 2, 5, 7, 4, 8, 7, 6, 1, 2, 5, 6, 9, 10, 4, 5, 10, 2, 6, 1, 2, 4, 5, 10, 2, 1, 6, 3, 6, 7, 1, 3, 4, 5, 8, 10, 5, 8, 8, 4, 5, 8, 10, 4, 4, 1, 6, 9, 10, 3, 3, 1, 6, 1, 4, 5, 6, 1, 8, 9, 5, 3, 8, 2, 3, 9, 10, 3, 5, 10, 1, 5, 7, 10, 4, 3, 7, 10, 5, 6, 6, 2, 3, 4, 3, 3, 1, 3, 9, 8, 7, 10, 5, 7, 1, 4, 7, 1, 4, 8, 10, 3, 4, 5, 8, 1, 2, 3, 1, 9, 2, 6, 8, 1, 10, 10, 1, 3, 8, 3, 2, 1, 2, 3, 5, 7, 8, 9, 10, 4, 10, 1, 4, 5, 7, 8, 10, 3, 4, 2, 4, 5, 6, 7, 5, 10, 7, 9, 1, 2, 6, 2, 7, 1, 2, 6, 7, 9, 10, 2, 10, 5, 10, 9, 6, 1, 5, 6, 3, 1, 8, 4, 4, 5, 4, 1, 2, 6, 8, 1, 9, 5, 2, 9, 8, 10, 1, 7, 9, 1, 3, 7, 9, 10, 6, 10, 8, 8, 6, 8, 1, 7, 1, 6, 8, 9, 10, 2, 4, 1, 3, 2, 8, 9], \"Freq\": [0.7511454277980748, 0.9615547051710202, 0.5671705096938437, 0.44113261865076736, 0.9724548026715035, 0.22645928041470223, 0.6793778412441067, 0.7511454277980748, 0.7511454277980748, 0.9219060497436691, 0.3081538430249633, 0.6163076860499266, 0.6647412244745363, 0.22158040815817878, 0.8953013920886514, 0.27747207461962425, 0.7110221912127872, 0.9506200850386128, 0.9500987069564313, 0.7511454277980748, 0.18342680826064564, 0.09171340413032282, 0.3668536165212913, 0.3668536165212913, 0.9484991229772659, 0.9169429153376959, 0.7511454277980748, 0.934570357782039, 0.734463817680088, 0.11404370408415457, 0.08553277806311592, 0.6842622245049274, 0.09978824107363525, 0.24976150060545318, 0.062440375151363296, 0.6868441266649963, 0.9334136774209273, 0.8547528044160887, 0.1349609691183298, 0.9276681246323131, 0.3780234279663399, 0.47252928495792484, 0.9500987069564313, 0.9357659243188461, 0.3884037200075132, 0.5649508654654738, 0.2246375658960534, 0.28375271481606745, 0.0059115148920014056, 0.02955757446000703, 0.05320363402801265, 0.011823029784002811, 0.05911514892001406, 0.2246375658960534, 0.1064072680560253, 0.80882406899687, 0.38817589138039593, 0.5822638370705938, 0.9075947569390395, 0.9304424545952937, 0.7344631536862225, 0.890500901392124, 0.035620036055684964, 0.05343005408352744, 0.49544043209920274, 0.24772021604960137, 0.24772021604960137, 0.41859471807434845, 0.06976578634572474, 0.3488289317286237, 0.13953157269144947, 0.9173137690524411, 0.7511766336814616, 0.9257217783174073, 0.39915938276677093, 0.5805954658425758, 0.7431613419276295, 0.7976816259280783, 0.9124018299036711, 0.1874655707338673, 0.7498622829354692, 0.7271487337162901, 0.9484991229772659, 0.846901715627905, 0.35569118751533435, 0.12668453253970813, 0.17053687072653015, 0.024362410103790023, 0.12181205051895011, 0.07308723031137007, 0.06334226626985406, 0.03897985616606404, 0.01948992808303202, 0.9203967929686008, 0.9744459069370681, 0.9054783649353739, 0.743161998816599, 0.8401588578247075, 0.9480238221306532, 0.7368714455638848, 0.7877744645032952, 0.20730906960613035, 0.7511454277980748, 0.9445118146673593, 0.8388000658394457, 0.8087769906043025, 0.828761695975065, 0.7302003736918604, 0.1825500934229651, 0.8929323238713208, 0.6951800858736947, 0.1986228816781985, 0.7271487337162901, 0.8469037873711519, 0.8205561713470592, 0.1538542821275736, 0.7072270941185627, 0.2571734887703864, 0.8580899799015897, 0.10143766831801361, 0.5071883415900681, 0.35503183911304764, 0.9173669058048735, 0.06254774357760501, 0.895297060837923, 0.8164840765111179, 0.7586659575711459, 0.859080273157669, 0.2698981299782985, 0.154227502844742, 0.539796259956597, 0.8388000658394457, 0.8964607249184022, 0.8511691515591148, 0.7545344729847292, 0.7344645621589347, 0.8952983550615387, 0.7511454277980748, 0.8468594902410052, 0.8511701692939225, 0.8468529687536751, 0.7271486872202849, 0.33420917899444763, 0.5848660632402833, 0.08355229474861191, 0.9094024017901801, 0.7368714455638848, 0.9853546807306951, 0.4310121444816087, 0.5387651806020108, 0.9044894109573153, 0.09578532964837985, 0.670497307538659, 0.1915706592967597, 0.03192844321612662, 0.8965151337599402, 0.09274294487171796, 0.8577736548153599, 0.10722170685191999, 0.9311891600890487, 0.8952983550615387, 0.9340145161845528, 0.9345022230916111, 0.8367172428973593, 0.8685322691945264, 0.10021526183013765, 0.825717970250369, 0.8580925887251031, 0.037143340204996676, 0.11143002061499002, 0.5942934432799468, 0.22286004122998004, 0.754531859704652, 0.4047345913566772, 0.1011836478391693, 0.4047345913566772, 0.7545334795359654, 0.7511788454350496, 0.8952983550615387, 0.9006272509189749, 0.8838725917753105, 0.8926704010217477, 0.9445131470910615, 0.09129342961402863, 0.16432817330525154, 0.0730347436912229, 0.602536635452589, 0.0730347436912229, 0.7545334795359654, 0.9006295270006804, 0.3275110088949485, 0.5731442655661598, 0.08187775222373712, 0.029627479199789915, 0.47403966719663865, 0.14813739599894957, 0.35552975039747897, 0.15686649608376224, 0.7843324804188112, 0.5672073657525593, 0.08726267165423988, 0.08726267165423988, 0.26178801496271964, 0.7431613419276295, 0.9311891600890487, 0.886733342183933, 0.80882406899687, 0.799966539327997, 0.291280693649828, 0.1699137379623997, 0.43692104047474206, 0.09709356454994268, 0.8287607932216794, 0.11286477610696911, 0.8464858208022684, 0.9202784176216541, 0.8511685109362017, 0.828761695975065, 0.04006741106289827, 0.12020223318869482, 0.48080893275477926, 0.12020223318869482, 0.24040446637738963, 0.9311891455737198, 0.9006325866482248, 0.19562535938418765, 0.13693775156893134, 0.03912507187683753, 0.09781267969209383, 0.5086259343988878, 0.9330051380587202, 0.9724548026715035, 0.8125437578101735, 0.47813003339973786, 0.27321716194270734, 0.27321716194270734, 0.11244770211487333, 0.22489540422974666, 0.6372036453176155, 0.8468531584866811, 0.828761695975065, 0.2746051789009168, 0.3138344901724763, 0.07845862254311907, 0.19614655635779768, 0.039229311271559535, 0.07845862254311907, 0.8550772789590629, 0.7368715145735181, 0.825717970250369, 0.9044894109573153, 0.9724548026715035, 0.18272885608811384, 0.7765976383744838, 0.85812272753901, 0.846860738442489, 0.9169420754638931, 0.734463817680088, 0.9357665320214067, 0.9304429797032853, 0.8257181641823549, 0.5138787907380785, 0.09068449248319031, 0.3325098057716978, 0.06045632832212688, 0.8387995937807428, 0.754531859704652, 0.19550028489994237, 0.6109383903123199, 0.17106274928744958, 0.7368715145735181, 0.7368715145735181, 0.8952990661299545, 0.6491895162372153, 0.2733429542051433, 0.06833573855128583, 0.9591185767192256, 0.8257181641823549, 0.8926708668909253, 0.9445118146673593, 0.836707533400549, 0.9686317946362735, 0.5031505339353857, 0.10063010678707714, 0.20126021357415427, 0.10063010678707714, 0.7511454277980748, 0.8699217245788633, 0.7511761852785754, 0.9781406476184835, 0.825717970250369, 0.9724548026715035, 0.751178260371133, 0.5424723241420212, 0.1356180810355053, 0.20342712155325793, 0.06780904051775265, 0.7553693032129355, 0.5655169956600377, 0.09425283261000628, 0.18850566522001255, 0.09425283261000628, 0.846901715627905, 0.8086056770572202, 0.13476761284287003, 0.80882406899687, 0.8440429627155684, 0.9591620198754636, 0.16186200878146764, 0.6474480351258706, 0.8287604875432952, 0.8654435139901085, 0.22555213597376683, 0.6766564079213006, 0.5585274541139655, 0.09308790901899425, 0.27926372705698277, 0.836725977535885, 0.846901715627905, 0.6376152593715381, 0.31880762968576903, 0.7862437006131464, 0.0982804625766433, 0.0982804625766433, 0.7545344729847292, 0.8511685109362017, 0.80882406899687, 0.8125364433093936, 0.8511685109362017, 0.80882406899687, 0.825717970250369, 0.8926688909606906, 0.9014309177054051, 0.08194826524594591, 0.7368715145735181, 0.942228627227797, 0.5080470726400098, 0.3386980484266732, 0.825717970250369, 0.8929318965004218, 0.9500987069564313, 0.80882406899687, 0.7344645621589347, 0.7072270941185627, 0.2571734887703864, 0.6386806268887707, 0.31934031344438535, 0.8804088703755812, 0.9608495236693296, 0.8952990661299545, 0.40236888674072835, 0.06706148112345472, 0.4526649975833194, 0.06706148112345472, 0.8699212221965059, 0.80882406899687, 0.8125387300870326, 0.13131220815889744, 0.4201990661084718, 0.026262441631779487, 0.07878732489533846, 0.07878732489533846, 0.2626244163177949, 0.8952990661299545, 0.80882406899687, 0.828761695975065, 0.3741932913818273, 0.5612899370727409, 0.7368715145735181, 0.7511787890195923, 0.3122618060702522, 0.6245236121405044, 0.8257437176789019, 0.3201966948324238, 0.6403933896648476, 0.6578425386905424, 0.23217971953783853, 0.07739323984594618, 0.9303963915642474, 0.575774033998357, 0.39257320499887977, 0.8511701692939225, 0.730702266474161, 0.2087720761354746, 0.6257738661777439, 0.3337460619614634, 0.7271486872202849, 0.754531859704652, 0.8938257966684314, 0.8248532342917857, 0.15711490176986392, 0.9311891455737198, 0.11309873158934153, 0.4523949263573661, 0.4523949263573661, 0.8125361984556548, 0.539368105731802, 0.23372617915044755, 0.1618104317195406, 0.0539368105731802, 0.8952990661299545, 0.27022218648970664, 0.6755554662242667, 0.7928208744655244, 0.1585641748931049, 0.8468594902410052, 0.8952991511995362, 0.895297060837923, 0.3791748109110774, 0.5055664145481031, 0.2449568592921697, 0.6123921482304242, 0.12247842964608485, 0.7271487337162901, 0.8580941908291225, 0.8952983550615387, 0.728290708790078, 0.1820726771975195, 0.8804111802150827, 0.7431613419276295, 0.8952983550615387, 0.8366545236381033, 0.8654420268575219, 0.9045328519812531, 0.8053328838262912, 0.1006666104782864, 0.7552446597409128, 0.1888111649352282, 0.15939174413985216, 0.7969587206992608, 0.9468370581571771, 0.7271487337162901, 0.9044869950650758, 0.955742771742769, 0.517486377745784, 0.452800580527561, 0.7511454277980748, 0.2959294844925095, 0.1972863229950063, 0.3945726459900126, 0.9006286535639648, 0.9457768152675912, 0.08093868523453294, 0.18500270910750385, 0.5896961352801685, 0.1387520318306279, 0.9422317367459669, 0.29756409095977854, 0.12398503789990772, 0.14878204547988927, 0.3471581061197416, 0.07439102273994463, 0.9445118146673593, 0.8468594902410052, 0.9276681246323131, 0.8287607932216794, 0.9304392804208111, 0.21593574307024213, 0.5038500671638984, 0.1439571620468281, 0.8964607249184022, 0.8257181796732532, 0.751178944606749, 0.9329967014891388, 0.7428120481798267, 0.143296996679485, 0.12282599715384429, 0.3480069919358922, 0.143296996679485, 0.18423899573076644, 0.061412998576922145, 0.16092129125827137, 0.16092129125827137, 0.6436851650330855, 0.974445721043808, 0.9311891600890487, 0.2978142061432165, 0.12408925255967354, 0.3722677576790206, 0.04963570102386942, 0.12408925255967354, 0.9445118146673593, 0.8421436517851809, 0.0765585137986528, 0.10139204245828423, 0.6590482759788475, 0.2534801061457106, 0.17925133123457324, 0.05975044374485774, 0.26887699685185984, 0.14937610936214435, 0.26887699685185984, 0.05975044374485774, 0.8287618367242167, 0.8469027767395089, 0.8469039069338872, 0.44495204369420693, 0.22247602184710347, 0.14831734789806897, 0.14831734789806897, 0.8804330658371108, 0.8257181641823549, 0.8060526928827861, 0.24235864082400096, 0.6462897088640026, 0.08078621360800033, 0.8874809714024258, 0.9054790500118983, 0.5443063533024176, 0.4082297649768132, 0.27419659628113197, 0.13709829814056598, 0.4112948944216979, 0.20564744721084896, 0.9500987069564313, 0.7511766336814616, 0.9450319843165765, 0.828761695975065, 0.7271487337162901, 0.80882406899687, 0.31825221348120286, 0.10608407116040094, 0.31825221348120286, 0.2652101779010024, 0.14080314008545278, 0.14080314008545278, 0.5632125603418111, 0.2754993420694703, 0.45916557011578385, 0.09183311402315676, 0.18366622804631352, 0.825717970250369, 0.1865396371948653, 0.5596189115845959, 0.2487195162598204, 0.828761695975065, 0.743161998816599, 0.7431566003011579, 0.6568763076796904, 0.1545591312187507, 0.19319891402343836, 0.9054790500118983, 0.8440429627155684, 0.11150678275199247, 0.22301356550398493, 0.6132873051359585, 0.846901715627905, 0.7485572514540698, 0.12475954190901165, 0.6339813107609673, 0.31699065538048365, 0.6459120225808351, 0.32295601129041757, 0.8952990661299545, 0.40798032594968914, 0.16319213037987565, 0.2447881955698135, 0.16319213037987565, 0.8699217245788633, 0.6642427220648348, 0.07380474689609276, 0.22141424068827828, 0.9480238221306532, 0.9506200454721064, 0.7271486872202849, 0.8572395815335135, 0.07143663179445946, 0.05916116028558527, 0.4437087021418895, 0.47328928228468214, 0.6979247358299686, 0.23264157860998955, 0.8511691644992058, 0.18057753464313542, 0.7223101385725417, 0.7511789988877012, 0.9484991229772659, 0.9006325866482248, 0.15233759331484403, 0.06770559702881958, 0.06770559702881958, 0.03385279851440979, 0.06770559702881958, 0.30467518662968807, 0.18619039182925384, 0.13541119405763916, 0.673018327137073, 0.3106238432940337, 0.10366267862930661, 0.15549401794395992, 0.07774700897197996, 0.5442290628038597, 0.025915669657326654, 0.10366267862930661, 0.21944123886350597, 0.6583237165905179, 0.25222814013395434, 0.2292983092126858, 0.16050881644888004, 0.25222814013395434, 0.09171932368507431, 0.8835942027769889, 0.8511685109362017, 0.7014019838651812, 0.14028039677303622, 0.4789519618844012, 0.08708217488807295, 0.39186978699632824, 0.8654416078421378, 0.8401588578247075, 0.44834523927575715, 0.22417261963787857, 0.06404931989653673, 0.0960739798448051, 0.0960739798448051, 0.0960739798448051, 0.4173327349833049, 0.5564436466444066, 0.828761695975065, 0.754531859704652, 0.8468594902410052, 0.8929378343634374, 0.14198673736975018, 0.7099336868487509, 0.10649005302731263, 0.8144788079189988, 0.8054110285028913, 0.08949011427809903, 0.734463817680088, 0.7344645621589347, 0.946831070884741, 0.73446373235312, 0.20628418965525888, 0.13752279310350593, 0.4813297758622707, 0.06876139655175297, 0.9500982582335954, 0.7511454277980748, 0.8284331118324088, 0.6964536695762298, 0.2984801441040985, 0.18945213705807293, 0.7578085482322917, 0.8591601327319788, 0.10739501659149735, 0.8468594902410052, 0.178241983651191, 0.178241983651191, 0.0891209918255955, 0.3787642152587809, 0.178241983651191, 0.7921252216228128, 0.1980313054057032, 0.9345703116950816, 0.9345703693354479, 0.9455737212577108, 0.751178944606749, 0.8580942145205926, 0.8952991511995362, 0.9500987069564313, 0.9304963831065541, 0.25257681747219757, 0.25257681747219757, 0.5051536349443951, 0.06272247837179402, 0.9094759363910134, 0.2699677377087171, 0.6299247213203399, 0.9255283071994955, 0.05141823928886086, 0.9044880610118486], \"Term\": [\"absence\", \"across\", \"action\", \"action\", \"address\", \"afternoon\", \"afternoon\", \"alas\", \"alex\", \"alone\", \"alum\", \"alum\", \"always\", \"always\", \"amazing\", \"american\", \"american\", \"among\", \"amount\", \"anigwe\", \"another\", \"another\", \"another\", \"another\", \"april\", \"arizona\", \"athlete\", \"award\", \"baby\", \"back\", \"back\", \"back\", \"back\", \"baker\", \"baker\", \"baker\", \"ball\", \"ballgame\", \"ballgame\", \"ballpark\", \"baseball\", \"baseball\", \"battleship\", \"bay\", \"bear\", \"bear\", \"bears\", \"bears\", \"bears\", \"bears\", \"bears\", \"bears\", \"bears\", \"bears\", \"bears\", \"beast\", \"beats\", \"beats\", \"beavers\", \"benedetti\", \"ber\", \"berkeley\", \"berkeley\", \"berkeley\", \"best\", \"best\", \"best\", \"big\", \"big\", \"big\", \"big\", \"blistering\", \"blue\", \"board\", \"bottom\", \"bottom\", \"bring\", \"brings\", \"broke\", \"buckley\", \"buckley\", \"build\", \"buy\", \"buying\", \"cal\", \"cal\", \"cal\", \"cal\", \"cal\", \"cal\", \"cal\", \"cal\", \"cal\", \"captures\", \"career\", \"catch\", \"caught\", \"celebrate\", \"challenge\", \"champ\", \"championships\", \"championships\", \"changer\", \"check\", \"cheering\", \"clash\", \"class\", \"clinched\", \"clinched\", \"closer\", \"coach\", \"coach\", \"col\", \"college\", \"collegiate\", \"collegiate\", \"collin\", \"collin\", \"colorado\", \"come\", \"come\", \"come\", \"commencement\", \"commencement\", \"company\", \"competes\", \"complete\", \"con\", \"congrats\", \"congrats\", \"congrats\", \"congratulations\", \"continue\", \"corner\", \"court\", \"courtesy\", \"crew\", \"cupertino\", \"cwpa\", \"dance\", \"dancing\", \"davidson\", \"day\", \"day\", \"day\", \"defend\", \"defending\", \"defends\", \"delivers\", \"delivers\", \"departs\", \"diamond\", \"diamond\", \"diamond\", \"diamond\", \"double\", \"double\", \"doubles\", \"doubles\", \"dry\", \"duty\", \"early\", \"earns\", \"end\", \"ends\", \"ends\", \"enjoyed\", \"errant\", \"evans\", \"evans\", \"evans\", \"evans\", \"evenin\", \"event\", \"event\", \"event\", \"ever\", \"excited\", \"extra\", \"fantastic\", \"fast\", \"fastest\", \"field\", \"final\", \"final\", \"final\", \"final\", \"final\", \"finalist\", \"finals\", \"finish\", \"finish\", \"finish\", \"first\", \"first\", \"first\", \"first\", \"flower\", \"flower\", \"fly\", \"fly\", \"fly\", \"fly\", \"flying\", \"forecast\", \"form\", \"founder\", \"fourth\", \"free\", \"free\", \"free\", \"free\", \"freshman\", \"friday\", \"friday\", \"friends\", \"full\", \"future\", \"game\", \"game\", \"game\", \"game\", \"game\", \"games\", \"gerlach\", \"gets\", \"gets\", \"gets\", \"gets\", \"gets\", \"getting\", \"give\", \"gives\", \"goes\", \"goes\", \"goes\", \"golden\", \"golden\", \"golden\", \"grab\", \"graduating\", \"great\", \"great\", \"great\", \"great\", \"great\", \"great\", \"greene\", \"haas\", \"hakathon\", \"hand\", \"harris\", \"heading\", \"heading\", \"heads\", \"held\", \"help\", \"high\", \"history\", \"hit\", \"hold\", \"home\", \"home\", \"home\", \"home\", \"honor\", \"hours\", \"https\", \"https\", \"https\", \"hull\", \"icymi\", \"illes\", \"improve\", \"improve\", \"improve\", \"including\", \"increases\", \"indian\", \"individuals\", \"infield\", \"inning\", \"innings\", \"innings\", \"innings\", \"innings\", \"introductions\", \"jacob\", \"joanne\", \"join\", \"judging\", \"kamala\", \"lea\", \"lead\", \"lead\", \"lead\", \"lead\", \"leadoff\", \"leads\", \"leads\", \"leads\", \"leads\", \"leagues\", \"left\", \"left\", \"legend\", \"limbhasut\", \"line\", \"lineup\", \"lineup\", \"link\", \"list\", \"little\", \"little\", \"live\", \"live\", \"live\", \"load\", \"local\", \"look\", \"look\", \"looking\", \"looking\", \"looking\", \"looks\", \"lower\", \"lynch\", \"made\", \"mark\", \"marshawn\", \"mash\", \"matchday\", \"may\", \"may\", \"mbas\", \"mckeever\", \"medley\", \"medley\", \"meeting\", \"men\", \"mid\", \"mode\", \"molloy\", \"morikawa\", \"morikawa\", \"morning\", \"morning\", \"mound\", \"mpsf\", \"named\", \"ncaa\", \"ncaa\", \"ncaa\", \"ncaa\", \"need\", \"nfl\", \"nice\", \"night\", \"night\", \"night\", \"night\", \"night\", \"night\", \"nusi\", \"official\", \"often\", \"old\", \"old\", \"onto\", \"opener\", \"opening\", \"opening\", \"order\", \"oregon\", \"oregon\", \"osu\", \"osu\", \"osu\", \"outs\", \"pac\", \"pac\", \"pacific\", \"park\", \"park\", \"part\", \"part\", \"penina\", \"perfect\", \"pitch\", \"place\", \"place\", \"plans\", \"plate\", \"plate\", \"plate\", \"plates\", \"play\", \"play\", \"play\", \"play\", \"player\", \"plays\", \"plays\", \"points\", \"points\", \"polo\", \"pool\", \"practice\", \"prelim\", \"prelim\", \"prelims\", \"prelims\", \"prelims\", \"prepare\", \"presented\", \"pressed\", \"preview\", \"preview\", \"previous\", \"produces\", \"props\", \"put\", \"qualifies\", \"qualify\", \"qualifying\", \"qualifying\", \"quality\", \"quality\", \"quick\", \"quick\", \"race\", \"racing\", \"ranked\", \"rankings\", \"ready\", \"ready\", \"real\", \"recap\", \"recap\", \"recap\", \"recaps\", \"recognized\", \"record\", \"record\", \"record\", \"record\", \"records\", \"relay\", \"relay\", \"relay\", \"relay\", \"relay\", \"relays\", \"released\", \"returns\", \"reuben\", \"reyes\", \"right\", \"right\", \"right\", \"roll\", \"ronaldson\", \"rough\", \"round\", \"ruff\", \"run\", \"run\", \"run\", \"run\", \"run\", \"run\", \"sabouri\", \"sabouri\", \"sabouri\", \"save\", \"says\", \"school\", \"school\", \"school\", \"school\", \"school\", \"score\", \"scores\", \"scores\", \"season\", \"season\", \"season\", \"second\", \"second\", \"second\", \"second\", \"second\", \"second\", \"seed\", \"sees\", \"series\", \"set\", \"set\", \"set\", \"set\", \"sets\", \"setting\", \"short\", \"shot\", \"shot\", \"shot\", \"shutdown\", \"side\", \"single\", \"single\", \"singles\", \"singles\", \"singles\", \"singles\", \"sink\", \"skies\", \"solo\", \"speak\", \"spring\", \"stage\", \"start\", \"start\", \"start\", \"start\", \"started\", \"started\", \"started\", \"starts\", \"starts\", \"starts\", \"starts\", \"startups\", \"state\", \"state\", \"state\", \"states\", \"stealing\", \"still\", \"straight\", \"straight\", \"straight\", \"strikes\", \"stuff\", \"sunday\", \"sunday\", \"sunday\", \"support\", \"sure\", \"sure\", \"swim\", \"swim\", \"take\", \"take\", \"taken\", \"takes\", \"takes\", \"takes\", \"takes\", \"tba\", \"team\", \"team\", \"team\", \"tennis\", \"teri\", \"things\", \"third\", \"third\", \"three\", \"three\", \"three\", \"throw\", \"throw\", \"throws\", \"thursday\", \"thursday\", \"tick\", \"tickets\", \"tim\", \"time\", \"time\", \"time\", \"time\", \"time\", \"time\", \"time\", \"time\", \"title\", \"title\", \"today\", \"today\", \"today\", \"today\", \"today\", \"today\", \"tomorrow\", \"tomorrow\", \"tonight\", \"tonight\", \"tonight\", \"tonight\", \"tonight\", \"totals\", \"touching\", \"tournament\", \"tournament\", \"trails\", \"trails\", \"trails\", \"tribute\", \"true\", \"two\", \"two\", \"two\", \"two\", \"two\", \"two\", \"tying\", \"tying\", \"united\", \"updates\", \"usa\", \"usc\", \"usf\", \"usf\", \"usf\", \"utah\", \"vaughn\", \"vaughn\", \"version\", \"victory\", \"video\", \"walk\", \"walks\", \"walks\", \"walks\", \"walks\", \"wall\", \"wallis\", \"watch\", \"water\", \"water\", \"way\", \"way\", \"weather\", \"weather\", \"wednesday\", \"week\", \"week\", \"week\", \"week\", \"week\", \"weekend\", \"weekend\", \"weekly\", \"weeks\", \"welcome\", \"well\", \"wells\", \"west\", \"wet\", \"wild\", \"win\", \"win\", \"win\", \"wins\", \"wins\", \"won\", \"won\", \"year\", \"year\", \"years\"]}, \"R\": 30, \"lambda.step\": 0.01, \"plot.opts\": {\"xlab\": \"PC1\", \"ylab\": \"PC2\"}, \"topic.order\": [1, 7, 10, 6, 4, 8, 9, 2, 5, 3]};\n",
       "\n",
       "function LDAvis_load_lib(url, callback){\n",
       "  var s = document.createElement('script');\n",
       "  s.src = url;\n",
       "  s.async = true;\n",
       "  s.onreadystatechange = s.onload = callback;\n",
       "  s.onerror = function(){console.warn(\"failed to load library \" + url);};\n",
       "  document.getElementsByTagName(\"head\")[0].appendChild(s);\n",
       "}\n",
       "\n",
       "if(typeof(LDAvis) !== \"undefined\"){\n",
       "   // already loaded: just create the visualization\n",
       "   !function(LDAvis){\n",
       "       new LDAvis(\"#\" + \"ldavis_el274341120391996329134411240\", ldavis_el274341120391996329134411240_data);\n",
       "   }(LDAvis);\n",
       "}else if(typeof define === \"function\" && define.amd){\n",
       "   // require.js is available: use it to load d3/LDAvis\n",
       "   require.config({paths: {d3: \"https://cdnjs.cloudflare.com/ajax/libs/d3/3.5.5/d3.min\"}});\n",
       "   require([\"d3\"], function(d3){\n",
       "      window.d3 = d3;\n",
       "      LDAvis_load_lib(\"https://cdn.rawgit.com/bmabey/pyLDAvis/files/ldavis.v1.0.0.js\", function(){\n",
       "        new LDAvis(\"#\" + \"ldavis_el274341120391996329134411240\", ldavis_el274341120391996329134411240_data);\n",
       "      });\n",
       "    });\n",
       "}else{\n",
       "    // require.js not available: dynamically load d3 & LDAvis\n",
       "    LDAvis_load_lib(\"https://cdnjs.cloudflare.com/ajax/libs/d3/3.5.5/d3.min.js\", function(){\n",
       "         LDAvis_load_lib(\"https://cdn.rawgit.com/bmabey/pyLDAvis/files/ldavis.v1.0.0.js\", function(){\n",
       "                 new LDAvis(\"#\" + \"ldavis_el274341120391996329134411240\", ldavis_el274341120391996329134411240_data);\n",
       "            })\n",
       "         });\n",
       "}\n",
       "</script>"
      ],
      "text/plain": [
       "<IPython.core.display.HTML object>"
      ]
     },
     "execution_count": 81,
     "metadata": {},
     "output_type": "execute_result"
    }
   ],
   "source": [
    "import pyLDAvis.gensim\n",
    "\n",
    "debate_data =  pyLDAvis.gensim.prepare(lda,corpus, dictionary)\n",
    "pyLDAvis.display(debate_data)"
   ]
  },
  {
   "cell_type": "code",
   "execution_count": null,
   "metadata": {
    "collapsed": true
   },
   "outputs": [],
   "source": []
  }
 ],
 "metadata": {
  "kernelspec": {
   "display_name": "Python 3",
   "language": "python",
   "name": "python3"
  },
  "language_info": {
   "codemirror_mode": {
    "name": "ipython",
    "version": 3
   },
   "file_extension": ".py",
   "mimetype": "text/x-python",
   "name": "python",
   "nbconvert_exporter": "python",
   "pygments_lexer": "ipython3",
   "version": "3.6.3"
  }
 },
 "nbformat": 4,
 "nbformat_minor": 2
}
