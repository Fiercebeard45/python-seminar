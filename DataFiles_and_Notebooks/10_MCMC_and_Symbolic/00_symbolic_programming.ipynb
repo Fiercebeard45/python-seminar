{
 "cells": [
  {
   "cell_type": "code",
   "execution_count": null,
   "metadata": {},
   "outputs": [],
   "source": [
    "%run ../00_AdvancedPythonConcepts/talktools.py"
   ]
  },
  {
   "cell_type": "markdown",
   "metadata": {},
   "source": [
    "# Symbolic mathematics with Python\n",
    "\n",
    "<center>\n",
    "```conda install sympy```\n",
    "</center>\n",
    "\n",
    "-  http://sympy.org/ SymPy home page\n",
    "\n",
    "- http://docs.sympy.org Reference, tutorial\n",
    "\n",
    "- https://github.com/sympy/sympy/wiki Sympy wiki\n",
    "\n",
    "Perhaps think of SymPy as Mathematica for Python, including integration, geometry, linear algebra, statistics, ODE solving and tensor algebra"
   ]
  },
  {
   "cell_type": "code",
   "execution_count": null,
   "metadata": {},
   "outputs": [],
   "source": [
    "import sympy"
   ]
  },
  {
   "cell_type": "markdown",
   "metadata": {},
   "source": [
    "## Symbolic computation\n",
    "\n",
    "See the wiki for comparison with other symbolic computation systems, e.g.: \n",
    "\n",
    "- https://github.com/sympy/sympy/wiki/SymPy-vs.-Mathematica \n",
    "- https://github.com/sympy/sympy/wiki/SymPy-vs.-Maple \n",
    "- https://github.com/sympy/sympy/wiki/SymPy-vs.-Matlab\n",
    "\n",
    "\n",
    "Computer algebra systems have existed since the 1960s, developed primarily within the theoretical physics and artificial intelligence communities until the appearance of Maple and Mathematica in the 1980s. Many problems in symbolic computation remain unsolved; many problems have been solved theoretically, but not implemented. Eg. arXiv categories: [cs.SC](https://arxiv.org/list/cs.SC/recent) (symbolic computation), [cs.MS](https://arxiv.org/list/cs.MS/recent) (mathemetical software).\n"
   ]
  },
  {
   "cell_type": "markdown",
   "metadata": {},
   "source": [
    "## Sympy architecture: classes and objects\n",
    "\n",
    "• Abstract objects are represented with the Basic class, of which Symbol, Function, ... are subclasses. All variables which will be assigned such an object must be declared as such in advance.\n",
    "\n",
    "Usually we just do these imports to make our life easier\n",
    "```\n",
    " >>> import sympy \n",
    " >>> x, y, z, t = sympy.symbols('x y z t')\n",
    " >>> k, m, n = sympy.symbols('k m n', integer=True)\n",
    " >>> f, g, h = sympy.symbols('f g h', cls=sympy.Function)\n",
    " ```"
   ]
  },
  {
   "cell_type": "code",
   "execution_count": null,
   "metadata": {},
   "outputs": [],
   "source": [
    "x, y, z, t = sympy.symbols('x y z t')\n",
    "k, m, n = sympy.symbols('k m n', integer=True)\n",
    "f, g, h = sympy.symbols('f g h', cls=sympy.Function)"
   ]
  },
  {
   "cell_type": "code",
   "execution_count": null,
   "metadata": {},
   "outputs": [],
   "source": [
    "type(x), type(k), type(f)"
   ]
  },
  {
   "cell_type": "markdown",
   "metadata": {},
   "source": [
    "### Sympy modules\n",
    "\n",
    "The symbolic computation framework for Sympy is provided by `sympy.core`. Everything else is in modules for performing various mathematical tasks.\n",
    "\n",
    "See http://docs.sympy.org/dev/modules/"
   ]
  },
  {
   "cell_type": "markdown",
   "metadata": {},
   "source": [
    "### Integration: the Risch-Norman algorithm\n",
    "\n",
    "• The Risch algorithm checks whether a given expression has an antiderivative and, as a by-product, returns the antiderivative if it does.\n",
    "\n",
    "• A restricted (but fast) implementation, the Risch-Norman algorithm, exists within Sympy. (Axiom is the only system that implements Risch completely, Mathematica has a number of proprietary developments too.)"
   ]
  },
  {
   "cell_type": "code",
   "execution_count": null,
   "metadata": {},
   "outputs": [],
   "source": [
    "sympy.integrate(x/(x**2+2*x+1), x)"
   ]
  },
  {
   "cell_type": "code",
   "execution_count": null,
   "metadata": {},
   "outputs": [],
   "source": [
    "sympy.latex(sympy.integrate(x/(x**2+2*x+1), x))\n",
    "\n",
    "# also try pprint"
   ]
  },
  {
   "cell_type": "code",
   "execution_count": null,
   "metadata": {},
   "outputs": [],
   "source": [
    "from sympy import init_printing; init_printing()"
   ]
  },
  {
   "cell_type": "code",
   "execution_count": null,
   "metadata": {},
   "outputs": [],
   "source": [
    "sympy.integrate(x/(x**2+2*x+1), x)"
   ]
  },
  {
   "cell_type": "markdown",
   "metadata": {},
   "source": [
    "### Linear algebra and matrices\n"
   ]
  },
  {
   "cell_type": "code",
   "execution_count": null,
   "metadata": {},
   "outputs": [],
   "source": [
    "M = sympy.Matrix(([1,2,3],[4,5,6],[7,8,9]))"
   ]
  },
  {
   "cell_type": "code",
   "execution_count": null,
   "metadata": {},
   "outputs": [],
   "source": [
    "M * M"
   ]
  },
  {
   "cell_type": "markdown",
   "metadata": {},
   "source": [
    "Numerically, this is what we can do in plain Python or numpy. But the real interesting difference is symbolically:"
   ]
  },
  {
   "cell_type": "code",
   "execution_count": null,
   "metadata": {},
   "outputs": [],
   "source": [
    "M = sympy.Matrix([[x,y],[y,x]])"
   ]
  },
  {
   "cell_type": "code",
   "execution_count": null,
   "metadata": {},
   "outputs": [],
   "source": [
    "M.det()"
   ]
  },
  {
   "cell_type": "markdown",
   "metadata": {},
   "source": [
    "### Statistical computation: `sympy.stats`\n",
    "\n",
    "Aims to provide abstract structures the represent probability distributions. Currently only two pre-defined classes (univariate normal and uniform), but the underlying API is fairly extensible."
   ]
  },
  {
   "cell_type": "code",
   "execution_count": null,
   "metadata": {},
   "outputs": [],
   "source": [
    "from sympy.stats import P, E, variance, Die, Normal, density, cdf\n",
    "from sympy import Eq, simplify\n",
    "\n",
    "X, Y = Die('X', 6), Die('Y', 6) # Define two six sided dice"
   ]
  },
  {
   "cell_type": "code",
   "execution_count": null,
   "metadata": {},
   "outputs": [],
   "source": [
    "P(X>3) # Probability X is greater than 3"
   ]
  },
  {
   "cell_type": "code",
   "execution_count": null,
   "metadata": {},
   "outputs": [],
   "source": [
    "E(X+Y) # Expectation of the sum of two dice"
   ]
  },
  {
   "cell_type": "code",
   "execution_count": null,
   "metadata": {},
   "outputs": [],
   "source": [
    "# what odds should the number 5 pay in craps?\n",
    "P(Eq(X+Y, 7)) / P(Eq(X+Y, 5))"
   ]
  },
  {
   "cell_type": "markdown",
   "metadata": {},
   "source": [
    "https://en.wikipedia.org/wiki/Craps#Bet_odds_and_summary"
   ]
  },
  {
   "cell_type": "code",
   "execution_count": null,
   "metadata": {},
   "outputs": [],
   "source": [
    "variance(X+Y) # Variance of the sum of two dice"
   ]
  },
  {
   "cell_type": "code",
   "execution_count": null,
   "metadata": {},
   "outputs": [],
   "source": [
    "# Create a continuous random variable with a Normal distribution.\n",
    "Z = Normal('Z', 0, 1) # Declare a Normal random variable with mean 0, std 1"
   ]
  },
  {
   "cell_type": "code",
   "execution_count": null,
   "metadata": {},
   "outputs": [],
   "source": [
    "simplify(P(Z>1)) # Probability of Z being greater than 1"
   ]
  },
  {
   "cell_type": "code",
   "execution_count": null,
   "metadata": {},
   "outputs": [],
   "source": [
    "N = Normal(\"x\", 1, 1)"
   ]
  },
  {
   "cell_type": "code",
   "execution_count": null,
   "metadata": {},
   "outputs": [],
   "source": [
    "density(N)"
   ]
  },
  {
   "cell_type": "code",
   "execution_count": null,
   "metadata": {},
   "outputs": [],
   "source": [
    "density(N)(1)"
   ]
  },
  {
   "cell_type": "code",
   "execution_count": null,
   "metadata": {},
   "outputs": [],
   "source": [
    "density(N)(3).evalf()"
   ]
  },
  {
   "cell_type": "markdown",
   "metadata": {},
   "source": [
    "Symbolic use also available, of course."
   ]
  },
  {
   "cell_type": "code",
   "execution_count": null,
   "metadata": {},
   "outputs": [],
   "source": [
    "density(N)(x)"
   ]
  },
  {
   "cell_type": "code",
   "execution_count": null,
   "metadata": {},
   "outputs": [],
   "source": [
    "Y = Normal(\"y\", 0, 1)\n",
    "\n",
    "cdf(Y)(y)"
   ]
  },
  {
   "cell_type": "code",
   "execution_count": null,
   "metadata": {},
   "outputs": [],
   "source": [
    "from sympy import oo\n",
    "cdf(Y)(-oo), cdf(Y)(0), cdf(Y)(oo),"
   ]
  },
  {
   "cell_type": "code",
   "execution_count": null,
   "metadata": {},
   "outputs": [],
   "source": [
    "cdf(Y)(4).evalf()"
   ]
  },
  {
   "cell_type": "code",
   "execution_count": null,
   "metadata": {},
   "outputs": [],
   "source": []
  }
 ],
 "metadata": {
  "kernelspec": {
   "display_name": "Python 3",
   "language": "python",
   "name": "python3"
  },
  "language_info": {
   "codemirror_mode": {
    "name": "ipython",
    "version": 3
   },
   "file_extension": ".py",
   "mimetype": "text/x-python",
   "name": "python",
   "nbconvert_exporter": "python",
   "pygments_lexer": "ipython3",
   "version": "3.6.4"
  }
 },
 "nbformat": 4,
 "nbformat_minor": 2
}
